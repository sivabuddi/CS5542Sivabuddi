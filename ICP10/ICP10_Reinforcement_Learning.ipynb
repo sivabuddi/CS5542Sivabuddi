{
 "cells": [
  {
   "cell_type": "markdown",
   "metadata": {
    "id": "p62G8M_viUJp"
   },
   "source": [
    "## ICP10 on Reinforcement learning using CartPole with Actor-Critic Method"
   ]
  },
  {
   "cell_type": "markdown",
   "metadata": {
    "id": "p62G8M_viUJp"
   },
   "source": [
    "##### Playing CartPole with the Actor-Critic Method"
   ]
  },
  {
   "cell_type": "markdown",
   "metadata": {
    "id": "kFgN7h_wiUJq"
   },
   "source": [
    "This tutorial demonstrates how to implement the [Actor-Critic](https://papers.nips.cc/paper/1786-actor-critic-algorithms.pdf) method using TensorFlow to train an agent on the [Open AI Gym](https://gym.openai.com/) CartPole-V0 environment.\n",
    "The reader is assumed to have some familiarity with [policy gradient methods](https://papers.nips.cc/paper/1713-policy-gradient-methods-for-reinforcement-learning-with-function-approximation.pdf) of reinforcement learning."
   ]
  },
  {
   "cell_type": "markdown",
   "metadata": {
    "id": "_kA10ZKRR0hi"
   },
   "source": [
    "**Actor-Critic methods**\n",
    "\n",
    "Actor-Critic methods are [temporal difference (TD) learning](https://en.wikipedia.org/wiki/Temporal_difference_learning) methods that represent the policy function independent of the value function. \n",
    "\n",
    "A policy function (or policy) returns a probability distribution over actions that the agent can take based on the given state.\n",
    "A value function determines the expected return for an agent starting at a given state and acting according to a particular policy forever after.\n",
    "\n",
    "In the Actor-Critic method, the policy is referred to as the *actor* that proposes a set of possible actions given a state, and the estimated value function is referred to as the *critic*, which evaluates actions taken by the *actor* based on the given policy.\n",
    "\n",
    "In this tutorial, both the *Actor* and *Critic* will be represented using one neural network with two outputs.\n"
   ]
  },
  {
   "cell_type": "markdown",
   "metadata": {
    "id": "rBfiafKSRs2k"
   },
   "source": [
    "**CartPole-v0**\n",
    "\n",
    "In the [CartPole-v0 environment](https://gym.openai.com/envs/CartPole-v0), a pole is attached to a cart moving along a frictionless track. \n",
    "The pole starts upright and the goal of the agent is to prevent it from falling over by applying a force of -1 or +1 to the cart. \n",
    "A reward of +1 is given for every time step the pole remains upright.\n",
    "An episode ends when (1) the pole is more than 15 degrees from vertical or (2) the cart moves more than 2.4 units from the center.\n",
    "\n",
    "<center>\n",
    "  <figure>\n",
    "    <image src=\"images/cartpole-v0.gif\">\n",
    "    <figcaption>\n",
    "      Trained actor-critic model in Cartpole-v0 environment\n",
    "    </figcaption>\n",
    "  </figure>\n",
    "</center>\n"
   ]
  },
  {
   "cell_type": "markdown",
   "metadata": {
    "id": "XSNVK0AeRoJd"
   },
   "source": [
    "The problem is considered \"solved\" when the average total reward for the episode reaches 195 over 100 consecutive trials."
   ]
  },
  {
   "cell_type": "markdown",
   "metadata": {
    "id": "glLwIctHiUJq"
   },
   "source": [
    "## Setup\n",
    "\n",
    "Import necessary packages and configure global settings.\n"
   ]
  },
  {
   "cell_type": "code",
   "execution_count": null,
   "metadata": {
    "id": "13l6BbxKhCKp"
   },
   "outputs": [],
   "source": [
    "!pip install -q gym"
   ]
  },
  {
   "cell_type": "code",
   "execution_count": null,
   "metadata": {
    "id": "WBeQhPi2S4m5"
   },
   "outputs": [],
   "source": [
    "%%bash\n",
    "Install additional packages for visualization\n",
    "sudo apt-get install -y xvfb python-opengl > /dev/null 2>&1\n",
    "pip install -q pyvirtualdisplay > /dev/null 2>&1\n",
    "pip install -q git+https://github.com/tensorflow/docs > /dev/null 2>&1"
   ]
  },
  {
   "cell_type": "code",
   "execution_count": 35,
   "metadata": {
    "id": "tT4N3qYviUJr"
   },
   "outputs": [],
   "source": [
    "import collections\n",
    "import gym\n",
    "import numpy as np\n",
    "import tensorflow as tf\n",
    "import tqdm\n",
    "\n",
    "from matplotlib import pyplot as plt\n",
    "from tensorflow.keras import layers\n",
    "from typing import Any, List, Sequence, Tuple\n",
    "\n",
    "\n",
    "# Create the environment\n",
    "env = gym.make(\"CartPole-v0\")\n",
    "# Set seed for experiment reproducibility\n",
    "seed = 42\n",
    "env.seed(seed)\n",
    "tf.random.set_seed(seed)\n",
    "np.random.seed(seed)\n",
    "\n",
    "# Small epsilon value for stabilizing division operations\n",
    "eps = np.finfo(np.float32).eps.item()"
   ]
  },
  {
   "cell_type": "markdown",
   "metadata": {
    "id": "AOUCe2D0iUJu"
   },
   "source": [
    "## Model\n",
    "\n",
    "The *Actor* and *Critic* will be modeled using one neural network that generates the action probabilities and critic value respectively. We use model subclassing to define the model. \n",
    "\n",
    "During the forward pass, the model will take in the state as the input and will output both action probabilities and critic value $V$, which models the state-dependent value function. The goal is to train a model that chooses actions based on a policy $\\pi$ that maximizes expected return.\n",
    "\n",
    "For Cartpole-v0, there are four values representing the state: cart position, cart-velocity, pole angle and pole velocity respectively. The agent can take two actions to push the cart left (0) and right (1) respectively.\n",
    "\n"
   ]
  },
  {
   "cell_type": "code",
   "execution_count": 36,
   "metadata": {
    "id": "aXKbbMC-kmuv"
   },
   "outputs": [],
   "source": [
    "class ActorCritic(tf.keras.Model):\n",
    "  \"\"\"Combined actor-critic network.\"\"\"\n",
    "\n",
    "  def __init__(\n",
    "      self, \n",
    "      num_actions: int, \n",
    "      num_hidden_units: int):\n",
    "    \"\"\"Initialize.\"\"\"\n",
    "    super().__init__()\n",
    "\n",
    "    self.common = layers.Dense(num_hidden_units, activation=\"relu\")\n",
    "    self.actor = layers.Dense(num_actions)\n",
    "    self.critic = layers.Dense(1)\n",
    "\n",
    "  def call(self, inputs: tf.Tensor) -> Tuple[tf.Tensor, tf.Tensor]:\n",
    "    x = self.common(inputs)\n",
    "    return self.actor(x), self.critic(x)"
   ]
  },
  {
   "cell_type": "code",
   "execution_count": 37,
   "metadata": {
    "id": "nWyxJgjLn68c"
   },
   "outputs": [],
   "source": [
    "num_actions = env.action_space.n  # 2\n",
    "num_hidden_units = 128\n",
    "\n",
    "model = ActorCritic(num_actions, num_hidden_units)"
   ]
  },
  {
   "cell_type": "markdown",
   "metadata": {
    "id": "hk92njFziUJw"
   },
   "source": [
    "## Training\n",
    "\n",
    "To train the agent, you will follow these steps:\n",
    "\n",
    "1. Run the agent on the environment to collect training data per episode.\n",
    "2. Compute expected return at each time step.\n",
    "3. Compute the loss for the combined actor-critic model.\n",
    "4. Compute gradients and update network parameters.\n",
    "5. Repeat 1-4 until either success criterion or max episodes has been reached.\n"
   ]
  },
  {
   "cell_type": "markdown",
   "metadata": {
    "id": "R2nde2XDs8Gh"
   },
   "source": [
    "### 1. Collecting training data\n",
    "\n",
    "As in supervised learning, in order to train the actor-critic model, we need\n",
    "to have training data. However, in order to collect such data, the model would\n",
    "need to be \"run\" in the environment.\n",
    "\n",
    "We collect training data for each episode. Then at each time step, the model's forward pass will be run on the environment's state in order to generate action probabilities and the critic value based on the current policy parameterized by the model's weights.\n",
    "\n",
    "The next action will be sampled from the action probabilities generated by the model, which would then be applied to the environment, causing the next state and reward to be generated.\n",
    "\n",
    "This process is implemented in the `run_episode` function, which uses TensorFlow operations so that it can later be compiled into a TensorFlow graph for faster training. Note that `tf.TensorArray`s were used to support Tensor iteration on variable length arrays."
   ]
  },
  {
   "cell_type": "code",
   "execution_count": 38,
   "metadata": {
    "id": "5URrbGlDSAGx"
   },
   "outputs": [],
   "source": [
    "# Wrap OpenAI Gym's `env.step` call as an operation in a TensorFlow function.\n",
    "# This would allow it to be included in a callable TensorFlow graph.\n",
    "\n",
    "def env_step(action: np.ndarray) -> Tuple[np.ndarray, np.ndarray, np.ndarray]:\n",
    "  \"\"\"Returns state, reward and done flag given an action.\"\"\"\n",
    "\n",
    "  state, reward, done, _ = env.step(action)\n",
    "  return (state.astype(np.float32), \n",
    "          np.array(reward, np.int32), \n",
    "          np.array(done, np.int32))\n",
    "\n",
    "\n",
    "def tf_env_step(action: tf.Tensor) -> List[tf.Tensor]:\n",
    "  return tf.numpy_function(env_step, [action], \n",
    "                           [tf.float32, tf.int32, tf.int32])"
   ]
  },
  {
   "cell_type": "code",
   "execution_count": 39,
   "metadata": {
    "id": "a4qVRV063Cl9"
   },
   "outputs": [],
   "source": [
    "def run_episode(\n",
    "    initial_state: tf.Tensor,  \n",
    "    model: tf.keras.Model, \n",
    "    max_steps: int) -> List[tf.Tensor]:\n",
    "  \"\"\"Runs a single episode to collect training data.\"\"\"\n",
    "\n",
    "  action_probs = tf.TensorArray(dtype=tf.float32, size=0, dynamic_size=True)\n",
    "  values = tf.TensorArray(dtype=tf.float32, size=0, dynamic_size=True)\n",
    "  rewards = tf.TensorArray(dtype=tf.int32, size=0, dynamic_size=True)\n",
    "\n",
    "  initial_state_shape = initial_state.shape\n",
    "  state = initial_state\n",
    "\n",
    "  for t in tf.range(max_steps):\n",
    "    # Convert state into a batched tensor (batch size = 1)\n",
    "    state = tf.expand_dims(state, 0)\n",
    "  \n",
    "    # Run the model and to get action probabilities and critic value\n",
    "    action_logits_t, value = model(state)\n",
    "  \n",
    "    # Sample next action from the action probability distribution\n",
    "    action = tf.random.categorical(action_logits_t, 1)[0, 0]\n",
    "    action_probs_t = tf.nn.softmax(action_logits_t)\n",
    "\n",
    "    # Store critic values\n",
    "    values = values.write(t, tf.squeeze(value))\n",
    "\n",
    "    # Store log probability of the action chosen\n",
    "    action_probs = action_probs.write(t, action_probs_t[0, action])\n",
    "  \n",
    "    # Apply action to the environment to get next state and reward\n",
    "    state, reward, done = tf_env_step(action)\n",
    "    state.set_shape(initial_state_shape)\n",
    "  \n",
    "    # Store reward\n",
    "    rewards = rewards.write(t, reward)\n",
    "\n",
    "    if tf.cast(done, tf.bool):\n",
    "      break\n",
    "\n",
    "  action_probs = action_probs.stack()\n",
    "  values = values.stack()\n",
    "  rewards = rewards.stack()\n",
    "  \n",
    "  return action_probs, values, rewards"
   ]
  },
  {
   "cell_type": "markdown",
   "metadata": {
    "id": "lBnIHdz22dIx"
   },
   "source": [
    "### 2. Computing expected returns\n",
    "\n",
    "We convert the sequence of rewards for each timestep $t$, $\\{r_{t}\\}^{T}_{t=1}$ collected during one episode into a sequence of expected returns $\\{G_{t}\\}^{T}_{t=1}$ in which the sum of rewards is taken from the current timestep $t$ to $T$ and each reward is multiplied with an exponentially decaying discount factor $\\gamma$:\n",
    "\n",
    "$$G_{t} = \\sum^{T}_{t'=t} \\gamma^{t'-t}r_{t'}$$\n",
    "\n",
    "Since $\\gamma\\in(0,1)$, rewards further out from the current timestep are given less weight.\n",
    "\n",
    "Intuitively, expected return simply implies that rewards now are better than rewards later. In a mathematical sense, it is to ensure that the sum of the rewards converges.\n",
    "\n",
    "To stabilize training, we also standardize the resulting sequence of returns (i.e. to have zero mean and unit standard deviation).\n"
   ]
  },
  {
   "cell_type": "code",
   "execution_count": 40,
   "metadata": {
    "id": "jpEwFyl315dl"
   },
   "outputs": [],
   "source": [
    "#b. Compute expected return at each time step. \n",
    "\n",
    "def get_expected_return(\n",
    "    rewards: tf.Tensor, \n",
    "    gamma: float, \n",
    "    standardize: bool = True) -> tf.Tensor:\n",
    "  \"\"\"Compute expected returns per timestep.\"\"\"\n",
    "\n",
    "  n = tf.shape(rewards)[0]\n",
    "  returns = tf.TensorArray(dtype=tf.float32, size=n)\n",
    "\n",
    "  # Start from the end of `rewards` and accumulate reward sums\n",
    "  # into the `returns` array\n",
    "  rewards = tf.cast(rewards[::-1], dtype=tf.float32)\n",
    "  discounted_sum = tf.constant(0.0)\n",
    "  discounted_sum_shape = discounted_sum.shape\n",
    "  for i in tf.range(n):\n",
    "    reward = rewards[i]\n",
    "    discounted_sum = reward + gamma * discounted_sum\n",
    "    discounted_sum.set_shape(discounted_sum_shape)\n",
    "    returns = returns.write(i, discounted_sum)\n",
    "  returns = returns.stack()[::-1]\n",
    "\n",
    "  if standardize:\n",
    "    returns = ((returns - tf.math.reduce_mean(returns)) / \n",
    "               (tf.math.reduce_std(returns) + eps))\n",
    "\n",
    "  return returns"
   ]
  },
  {
   "cell_type": "markdown",
   "metadata": {
    "id": "1hrPLrgGxlvb"
   },
   "source": [
    "### 3. The actor-critic loss\n",
    "\n",
    "Since we are using a hybrid actor-critic model, we will use loss function that is a combination of actor and critic losses for training, as shown below:\n",
    "\n",
    "$$L = L_{actor} + L_{critic}$$\n",
    "\n",
    "#### Actor loss\n",
    "\n",
    "$$L_{actor} = -\\sum^{T}_{t=1} log\\pi_{\\theta}(a_{t} | s_{t})[G(s_{t}, a_{t})  - V^{\\pi}_{\\theta}(s_{t})]$$\n",
    "\n",
    "where:\n",
    "- $T$: the number of timesteps per episode, which can vary per episode\n",
    "- $s_{t}$: the state at timestep $t$\n",
    "- $a_{t}$: chosen action at timestep $t$ given state $s$\n",
    "- $\\pi_{\\theta}$: is the policy (actor) parameterized by $\\theta$\n",
    "- $V^{\\pi}_{\\theta}$: is the value function (critic) also parameterized by $\\theta$\n",
    "- $G = G_{t}$: the expected return for a given state, action pair at timestep $t$\n",
    "\n",
    "We add a negative term to the sum since we want to maximize the probabilities of actions yielding higher rewards by minimizing the combined loss.\n",
    "\n",
    "<br>\n",
    "\n",
    "#### Critic loss\n",
    "\n",
    "Training $V$ to be as close possible to $G$ can be set up as a regression problem with the following loss function:\n",
    "\n",
    "$$L_{critic} = L_{\\delta}(G, V^{\\pi}_{\\theta})$$\n",
    "\n",
    "where $L_{\\delta}$ is the [Huber loss](https://en.wikipedia.org/wiki/Huber_loss), which is less sensitive to outliers in data than squared-error loss.\n"
   ]
  },
  {
   "cell_type": "code",
   "execution_count": 41,
   "metadata": {
    "id": "9EXwbEez6n9m"
   },
   "outputs": [],
   "source": [
    "huber_loss = tf.keras.losses.Huber(reduction=tf.keras.losses.Reduction.SUM)\n",
    "\n",
    "def compute_loss(\n",
    "    action_probs: tf.Tensor,  \n",
    "    values: tf.Tensor,  \n",
    "    returns: tf.Tensor) -> tf.Tensor:\n",
    "  \"\"\"Computes the combined actor-critic loss.\"\"\"\n",
    "\n",
    "  advantage = returns - values\n",
    "\n",
    "  action_log_probs = tf.math.log(action_probs)\n",
    "  actor_loss = -tf.math.reduce_sum(action_log_probs * advantage)\n",
    "\n",
    "  critic_loss = huber_loss(values, returns)\n",
    "\n",
    "  return actor_loss + critic_loss"
   ]
  },
  {
   "cell_type": "markdown",
   "metadata": {
    "id": "HSYkQOmRfV75"
   },
   "source": [
    "### 4. Defining the training step to update parameters\n",
    "\n",
    "We combine all of the steps above into a training step that is run every episode. All steps leading up to the loss function are executed with the `tf.GradientTape` context to enable automatic differentiation.\n",
    "\n",
    "We use the Adam optimizer to apply the gradients to the model parameters.\n",
    "\n",
    "We also compute the sum of the undiscounted rewards, `episode_reward`, in this step which would be used later on to evaluate if we have met the success criterion.\n",
    "\n",
    "We apply the `tf.function` context to the `train_step` function so that it can be compiled into a callable TensorFlow graph, which can lead to 10x speedup in training.\n"
   ]
  },
  {
   "cell_type": "code",
   "execution_count": 42,
   "metadata": {
    "id": "QoccrkF3IFCg"
   },
   "outputs": [],
   "source": [
    "optimizer = tf.keras.optimizers.Adam(learning_rate=0.01)\n",
    "\n",
    "\n",
    "@tf.function\n",
    "def train_step(\n",
    "    initial_state: tf.Tensor, \n",
    "    model: tf.keras.Model, \n",
    "    optimizer: tf.keras.optimizers.Optimizer, \n",
    "    gamma: float, \n",
    "    max_steps_per_episode: int) -> tf.Tensor:\n",
    "  \"\"\"Runs a model training step.\"\"\"\n",
    "\n",
    "  with tf.GradientTape() as tape:\n",
    "\n",
    "    # Run the model for one episode to collect training data\n",
    "    action_probs, values, rewards = run_episode(\n",
    "        initial_state, model, max_steps_per_episode) \n",
    "\n",
    "    # Calculate expected returns\n",
    "    returns = get_expected_return(rewards, gamma)\n",
    "\n",
    "    # Convert training data to appropriate TF tensor shapes\n",
    "    action_probs, values, returns = [\n",
    "        tf.expand_dims(x, 1) for x in [action_probs, values, returns]] \n",
    "\n",
    "    # Calculating loss values to update our network\n",
    "    loss = compute_loss(action_probs, values, returns)\n",
    "\n",
    "  # Compute the gradients from the loss\n",
    "  grads = tape.gradient(loss, model.trainable_variables)\n",
    "\n",
    "  # Apply the gradients to the model's parameters\n",
    "  optimizer.apply_gradients(zip(grads, model.trainable_variables))\n",
    "\n",
    "  episode_reward = tf.math.reduce_sum(rewards)\n",
    "\n",
    "  return episode_reward"
   ]
  },
  {
   "cell_type": "markdown",
   "metadata": {
    "id": "HFvZiDoAflGK"
   },
   "source": [
    "### 5. Run the training loop\n",
    "\n",
    "We execute training by run the training step until either the success criterion or maximum number of episodes is reached.  \n",
    "\n",
    "We keep a running record of episode rewards using a queue. Once 100 trials are reached, the oldest reward is removed at the left (tail) end of the queue and the newest one is added at the head (right). A running sum of the rewards is also maintained for computational efficiency. \n",
    "\n",
    "Depending on your runtime, training can finish in less than a minute."
   ]
  },
  {
   "cell_type": "code",
   "execution_count": 43,
   "metadata": {
    "id": "kbmBxnzLiUJx"
   },
   "outputs": [
    {
     "name": "stderr",
     "output_type": "stream",
     "text": [
      "Episode 1511:  15%|█▌        | 1511/10000 [02:00<11:16, 12.55it/s, episode_reward=200, running_reward=195]"
     ]
    },
    {
     "name": "stdout",
     "output_type": "stream",
     "text": [
      "\n",
      "Solved at episode 1511: average reward: 195.00!\n",
      "CPU times: user 3min 44s, sys: 37.6 s, total: 4min 22s\n",
      "Wall time: 2min\n"
     ]
    },
    {
     "name": "stderr",
     "output_type": "stream",
     "text": [
      "\n"
     ]
    }
   ],
   "source": [
    "%%time\n",
    "\n",
    "max_episodes = 10000\n",
    "max_steps_per_episode = 1000\n",
    "\n",
    "# Cartpole-v0 is considered solved if average reward is >= 195 over 100 \n",
    "# consecutive trials\n",
    "reward_threshold = 195\n",
    "running_reward = 0\n",
    "\n",
    "# Discount factor for future rewards\n",
    "gamma = 0.99\n",
    "\n",
    "with tqdm.trange(max_episodes) as t:\n",
    "  for i in t:\n",
    "    initial_state = tf.constant(env.reset(), dtype=tf.float32)\n",
    "    episode_reward = int(train_step(\n",
    "        initial_state, model, optimizer, gamma, max_steps_per_episode))\n",
    "\n",
    "    running_reward = episode_reward*0.01 + running_reward*.99\n",
    "  \n",
    "    t.set_description(f'Episode {i}')\n",
    "    t.set_postfix(\n",
    "        episode_reward=episode_reward, running_reward=running_reward)\n",
    "  \n",
    "    # Show average episode reward every 10 episodes\n",
    "    if i % 10 == 0:\n",
    "      pass # print(f'Episode {i}: average reward: {avg_reward}')\n",
    "  \n",
    "    if running_reward > reward_threshold:  \n",
    "        break\n",
    "\n",
    "print(f'\\nSolved at episode {i}: average reward: {running_reward:.2f}!')"
   ]
  },
  {
   "cell_type": "markdown",
   "metadata": {
    "id": "ru8BEwS1EmAv"
   },
   "source": [
    "## Visualization\n",
    "\n",
    "After training, it would be good to visualize how the model performs in the environment. You can run the cells below to generate a GIF animation of one episode run of the model. Note that additional packages need to be installed for OpenAI Gym to render the environment's images correctly in Colab."
   ]
  },
  {
   "cell_type": "code",
   "execution_count": 44,
   "metadata": {
    "id": "qbIMMkfmRHyC"
   },
   "outputs": [],
   "source": [
    "# Render an episode and save as a GIF file\n",
    "\n",
    "from IPython import display as ipythondisplay\n",
    "from PIL import Image\n",
    "from pyvirtualdisplay import Display\n",
    "\n",
    "\n",
    "display = Display(visible=0, size=(400, 300))\n",
    "display.start()\n",
    "\n",
    "max_steps_per_episode = 1000\n",
    "def render_episode(env: gym.Env, model: tf.keras.Model, max_steps: int): \n",
    "  screen = env.render(mode='rgb_array')\n",
    "  im = Image.fromarray(screen)\n",
    "\n",
    "  images = [im]\n",
    "  \n",
    "  state = tf.constant(env.reset(), dtype=tf.float32)\n",
    "  for i in range(1, max_steps + 1):\n",
    "    state = tf.expand_dims(state, 0)\n",
    "    action_probs, _ = model(state)\n",
    "    action = np.argmax(np.squeeze(action_probs))\n",
    "\n",
    "    state, _, done, _ = env.step(action)\n",
    "    state = tf.constant(state, dtype=tf.float32)\n",
    "\n",
    "    # Render screen every 10 steps\n",
    "    if i % 10 == 0:\n",
    "      screen = env.render(mode='rgb_array')\n",
    "      images.append(Image.fromarray(screen))\n",
    "  \n",
    "    if done:\n",
    "      break\n",
    "  \n",
    "  return images\n",
    "\n",
    "\n",
    "# Save GIF image\n",
    "images = render_episode(env, model, max_steps_per_episode)\n",
    "image_file = 'cartpole-v0.gif'\n",
    "# loop=0: loop forever, duration=1: play each frame for 1ms\n",
    "images[0].save(\n",
    "    image_file, save_all=True, append_images=images[1:], loop=0, duration=1)"
   ]
  },
  {
   "cell_type": "code",
   "execution_count": 45,
   "metadata": {
    "id": "TLd720SejKmf"
   },
   "outputs": [
    {
     "data": {
      "text/html": [
       "<img src=\"data:image/gif;base64,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\"/>"
      ],
      "text/plain": [
       "<IPython.core.display.HTML object>"
      ]
     },
     "execution_count": 45,
     "metadata": {},
     "output_type": "execute_result"
    }
   ],
   "source": [
    "import tensorflow_docs.vis.embed as embed\n",
    "embed.embed_file(image_file)"
   ]
  },
  {
   "cell_type": "markdown",
   "metadata": {},
   "source": [
    "## References\n",
    "\n",
    "1. https://en.wikipedia.org/wiki/Reinforcement_learning\n",
    "2. https://www.learndatasci.com/tutorials/reinforcement-q-learning-scratch-python-openai-gym/"
   ]
  }
 ],
 "metadata": {
  "colab": {
   "collapsed_sections": [
    "_jQ1tEQCxwRx"
   ],
   "name": "actor_critic.ipynb",
   "toc_visible": true
  },
  "kernelspec": {
   "display_name": "Python 3",
   "language": "python",
   "name": "python3"
  },
  "language_info": {
   "codemirror_mode": {
    "name": "ipython",
    "version": 3
   },
   "file_extension": ".py",
   "mimetype": "text/x-python",
   "name": "python",
   "nbconvert_exporter": "python",
   "pygments_lexer": "ipython3",
   "version": "3.7.3"
  }
 },
 "nbformat": 4,
 "nbformat_minor": 1
}
