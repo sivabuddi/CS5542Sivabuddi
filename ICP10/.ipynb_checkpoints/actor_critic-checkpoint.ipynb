{
 "cells": [
  {
   "cell_type": "markdown",
   "metadata": {
    "id": "p62G8M_viUJp"
   },
   "source": [
    "## ICP10 on Reinforcement learning using CartPole with Actor-Critic Method"
   ]
  },
  {
   "cell_type": "markdown",
   "metadata": {
    "id": "p62G8M_viUJp"
   },
   "source": [
    "##### Playing CartPole with the Actor-Critic Method"
   ]
  },
  {
   "cell_type": "markdown",
   "metadata": {
    "id": "kFgN7h_wiUJq"
   },
   "source": [
    "This tutorial demonstrates how to implement the [Actor-Critic](https://papers.nips.cc/paper/1786-actor-critic-algorithms.pdf) method using TensorFlow to train an agent on the [Open AI Gym](https://gym.openai.com/) CartPole-V0 environment.\n",
    "The reader is assumed to have some familiarity with [policy gradient methods](https://papers.nips.cc/paper/1713-policy-gradient-methods-for-reinforcement-learning-with-function-approximation.pdf) of reinforcement learning."
   ]
  },
  {
   "cell_type": "markdown",
   "metadata": {
    "id": "_kA10ZKRR0hi"
   },
   "source": [
    "**Actor-Critic methods**\n",
    "\n",
    "Actor-Critic methods are [temporal difference (TD) learning](https://en.wikipedia.org/wiki/Temporal_difference_learning) methods that represent the policy function independent of the value function. \n",
    "\n",
    "A policy function (or policy) returns a probability distribution over actions that the agent can take based on the given state.\n",
    "A value function determines the expected return for an agent starting at a given state and acting according to a particular policy forever after.\n",
    "\n",
    "In the Actor-Critic method, the policy is referred to as the *actor* that proposes a set of possible actions given a state, and the estimated value function is referred to as the *critic*, which evaluates actions taken by the *actor* based on the given policy.\n",
    "\n",
    "In this tutorial, both the *Actor* and *Critic* will be represented using one neural network with two outputs.\n"
   ]
  },
  {
   "cell_type": "markdown",
   "metadata": {
    "id": "rBfiafKSRs2k"
   },
   "source": [
    "**CartPole-v0**\n",
    "\n",
    "In the [CartPole-v0 environment](https://gym.openai.com/envs/CartPole-v0), a pole is attached to a cart moving along a frictionless track. \n",
    "The pole starts upright and the goal of the agent is to prevent it from falling over by applying a force of -1 or +1 to the cart. \n",
    "A reward of +1 is given for every time step the pole remains upright.\n",
    "An episode ends when (1) the pole is more than 15 degrees from vertical or (2) the cart moves more than 2.4 units from the center.\n",
    "\n",
    "<center>\n",
    "  <figure>\n",
    "    <image src=\"images/cartpole-v0.gif\">\n",
    "    <figcaption>\n",
    "      Trained actor-critic model in Cartpole-v0 environment\n",
    "    </figcaption>\n",
    "  </figure>\n",
    "</center>\n"
   ]
  },
  {
   "cell_type": "markdown",
   "metadata": {
    "id": "XSNVK0AeRoJd"
   },
   "source": [
    "The problem is considered \"solved\" when the average total reward for the episode reaches 195 over 100 consecutive trials."
   ]
  },
  {
   "cell_type": "markdown",
   "metadata": {
    "id": "glLwIctHiUJq"
   },
   "source": [
    "## Setup\n",
    "\n",
    "Import necessary packages and configure global settings.\n"
   ]
  },
  {
   "cell_type": "code",
   "execution_count": null,
   "metadata": {
    "id": "13l6BbxKhCKp"
   },
   "outputs": [],
   "source": [
    "!pip install -q gym"
   ]
  },
  {
   "cell_type": "code",
   "execution_count": null,
   "metadata": {
    "id": "WBeQhPi2S4m5"
   },
   "outputs": [],
   "source": [
    "%%bash\n",
    "Install additional packages for visualization\n",
    "sudo apt-get install -y xvfb python-opengl > /dev/null 2>&1\n",
    "pip install -q pyvirtualdisplay > /dev/null 2>&1\n",
    "pip install -q git+https://github.com/tensorflow/docs > /dev/null 2>&1"
   ]
  },
  {
   "cell_type": "code",
   "execution_count": 1,
   "metadata": {
    "id": "tT4N3qYviUJr"
   },
   "outputs": [],
   "source": [
    "import collections\n",
    "import gym\n",
    "import numpy as np\n",
    "import tensorflow as tf\n",
    "import tqdm\n",
    "\n",
    "from matplotlib import pyplot as plt\n",
    "from tensorflow.keras import layers\n",
    "from typing import Any, List, Sequence, Tuple\n",
    "\n",
    "\n",
    "# Create the environment\n",
    "env = gym.make(\"CartPole-v0\")\n",
    "Design a Deep Q learning Network (DQN), using Keras & OpenAI Gym , for cartpole game and\n",
    "visualize your results.\n",
    "# Set seed for experiment reproducibility\n",
    "seed = 42\n",
    "env.seed(seed)\n",
    "tf.random.set_seed(seed)\n",
    "np.random.seed(seed)\n",
    "\n",
    "# Small epsilon value for stabilizing division operations\n",
    "eps = np.finfo(np.float32).eps.item()"
   ]
  },
  {
   "cell_type": "markdown",
   "metadata": {
    "id": "AOUCe2D0iUJu"
   },
   "source": [
    "## Model\n",
    "\n",
    "The *Actor* and *Critic* will be modeled using one neural network that generates the action probabilities and critic value respectively. We use model subclassing to define the model. \n",
    "\n",
    "During the forward pass, the model will take in the state as the input and will output both action probabilities and critic value $V$, which models the state-dependent value function. The goal is to train a model that chooses actions based on a policy $\\pi$ that maximizes expected return.\n",
    "\n",
    "For Cartpole-v0, there are four values representing the state: cart position, cart-velocity, pole angle and pole velocity respectively. The agent can take two actions to push the cart left (0) and right (1) respectively.\n",
    "\n"
   ]
  },
  {
   "cell_type": "code",
   "execution_count": 2,
   "metadata": {
    "id": "aXKbbMC-kmuv"
   },
   "outputs": [],
   "source": [
    "class ActorCritic(tf.keras.Model):\n",
    "  \"\"\"Combined actor-critic network.\"\"\"\n",
    "\n",
    "  def __init__(\n",
    "      self, \n",
    "      num_actions: int, \n",
    "      num_hidden_units: int):\n",
    "    \"\"\"Initialize.\"\"\"\n",
    "    super().__init__()\n",
    "\n",
    "    self.common = layers.Dense(num_hidden_units, activation=\"relu\")\n",
    "    self.actor = layers.Dense(num_actions)\n",
    "    self.critic = layers.Dense(1)\n",
    "\n",
    "  def call(self, inputs: tf.Tensor) -> Tuple[tf.Tensor, tf.Tensor]:\n",
    "    x = self.common(inputs)\n",
    "    return self.actor(x), self.critic(x)"
   ]
  },
  {
   "cell_type": "code",
   "execution_count": 3,
   "metadata": {
    "id": "nWyxJgjLn68c"
   },
   "outputs": [],
   "source": [
    "num_actions = env.action_space.n  # 2\n",
    "num_hidden_units = 128\n",
    "\n",
    "model = ActorCritic(num_actions, num_hidden_units)"
   ]
  },
  {
   "cell_type": "markdown",
   "metadata": {
    "id": "hk92njFziUJw"
   },
   "source": [
    "## Training\n",
    "\n",
    "To train the agent, you will follow these steps:\n",
    "\n",
    "1. Run the agent on the environment to collect training data per episode.\n",
    "2. Compute expected return at each time step.\n",
    "3. Compute the loss for the combined actor-critic model.\n",
    "4. Compute gradients and update network parameters.\n",
    "5. Repeat 1-4 until either success criterion or max episodes has been reached.\n"
   ]
  },
  {
   "cell_type": "markdown",
   "metadata": {
    "id": "R2nde2XDs8Gh"
   },
   "source": [
    "### 1. Collecting training data\n",
    "\n",
    "As in supervised learning, in order to train the actor-critic model, we need\n",
    "to have training data. However, in order to collect such data, the model would\n",
    "need to be \"run\" in the environment.\n",
    "\n",
    "We collect training data for each episode. Then at each time step, the model's forward pass will be run on the environment's state in order to generate action probabilities and the critic value based on the current policy parameterized by the model's weights.\n",
    "\n",
    "The next action will be sampled from the action probabilities generated by the model, which would then be applied to the environment, causing the next state and reward to be generated.\n",
    "\n",
    "This process is implemented in the `run_episode` function, which uses TensorFlow operations so that it can later be compiled into a TensorFlow graph for faster training. Note that `tf.TensorArray`s were used to support Tensor iteration on variable length arrays."
   ]
  },
  {
   "cell_type": "code",
   "execution_count": 4,
   "metadata": {
    "id": "5URrbGlDSAGx"
   },
   "outputs": [],
   "source": [
    "# Wrap OpenAI Gym's `env.step` call as an operation in a TensorFlow function.\n",
    "# This would allow it to be included in a callable TensorFlow graph.\n",
    "\n",
    "def env_step(action: np.ndarray) -> Tuple[np.ndarray, np.ndarray, np.ndarray]:\n",
    "  \"\"\"Returns state, reward and done flag given an action.\"\"\"\n",
    "\n",
    "  state, reward, done, _ = env.step(action)\n",
    "  return (state.astype(np.float32), \n",
    "          np.array(reward, np.int32), \n",
    "          np.array(done, np.int32))\n",
    "\n",
    "\n",
    "def tf_env_step(action: tf.Tensor) -> List[tf.Tensor]:\n",
    "  return tf.numpy_function(env_step, [action], \n",
    "                           [tf.float32, tf.int32, tf.int32])"
   ]
  },
  {
   "cell_type": "code",
   "execution_count": 5,
   "metadata": {
    "id": "a4qVRV063Cl9"
   },
   "outputs": [],
   "source": [
    "def run_episode(\n",
    "    initial_state: tf.Tensor,  \n",
    "    model: tf.keras.Model, \n",
    "    max_steps: int) -> List[tf.Tensor]:\n",
    "  \"\"\"Runs a single episode to collect training data.\"\"\"\n",
    "\n",
    "  action_probs = tf.TensorArray(dtype=tf.float32, size=0, dynamic_size=True)\n",
    "  values = tf.TensorArray(dtype=tf.float32, size=0, dynamic_size=True)\n",
    "  rewards = tf.TensorArray(dtype=tf.int32, size=0, dynamic_size=True)\n",
    "\n",
    "  initial_state_shape = initial_state.shape\n",
    "  state = initial_state\n",
    "\n",
    "  for t in tf.range(max_steps):\n",
    "    # Convert state into a batched tensor (batch size = 1)\n",
    "    state = tf.expand_dims(state, 0)\n",
    "  \n",
    "    # Run the model and to get action probabilities and critic value\n",
    "    action_logits_t, value = model(state)\n",
    "  \n",
    "    # Sample next action from the action probability distribution\n",
    "    action = tf.random.categorical(action_logits_t, 1)[0, 0]\n",
    "    action_probs_t = tf.nn.softmax(action_logits_t)\n",
    "\n",
    "    # Store critic values\n",
    "    values = values.write(t, tf.squeeze(value))\n",
    "\n",
    "    # Store log probability of the action chosen\n",
    "    action_probs = action_probs.write(t, action_probs_t[0, action])\n",
    "  \n",
    "    # Apply action to the environment to get next state and reward\n",
    "    state, reward, done = tf_env_step(action)\n",
    "    state.set_shape(initial_state_shape)\n",
    "  \n",
    "    # Store reward\n",
    "    rewards = rewards.write(t, reward)\n",
    "\n",
    "    if tf.cast(done, tf.bool):\n",
    "      break\n",
    "\n",
    "  action_probs = action_probs.stack()\n",
    "  values = values.stack()\n",
    "  rewards = rewards.stack()\n",
    "  \n",
    "  return action_probs, values, rewards"
   ]
  },
  {
   "cell_type": "markdown",
   "metadata": {
    "id": "lBnIHdz22dIx"
   },
   "source": [
    "### 2. Computing expected returns\n",
    "\n",
    "We convert the sequence of rewards for each timestep $t$, $\\{r_{t}\\}^{T}_{t=1}$ collected during one episode into a sequence of expected returns $\\{G_{t}\\}^{T}_{t=1}$ in which the sum of rewards is taken from the current timestep $t$ to $T$ and each reward is multiplied with an exponentially decaying discount factor $\\gamma$:\n",
    "\n",
    "$$G_{t} = \\sum^{T}_{t'=t} \\gamma^{t'-t}r_{t'}$$\n",
    "\n",
    "Since $\\gamma\\in(0,1)$, rewards further out from the current timestep are given less weight.\n",
    "\n",
    "Intuitively, expected return simply implies that rewards now are better than rewards later. In a mathematical sense, it is to ensure that the sum of the rewards converges.\n",
    "\n",
    "To stabilize training, we also standardize the resulting sequence of returns (i.e. to have zero mean and unit standard deviation).\n"
   ]
  },
  {
   "cell_type": "code",
   "execution_count": 6,
   "metadata": {
    "id": "jpEwFyl315dl"
   },
   "outputs": [],
   "source": [
    "b. Compute expected return at each time step. def get_expected_return(\n",
    "    rewards: tf.Tensor, \n",
    "    gamma: float, \n",
    "    standardize: bool = True) -> tf.Tensor:\n",
    "  \"\"\"Compute expected returns per timestep.\"\"\"\n",
    "\n",
    "  n = tf.shape(rewards)[0]\n",
    "  returns = tf.TensorArray(dtype=tf.float32, size=n)\n",
    "\n",
    "  # Start from the end of `rewards` and accumulate reward sums\n",
    "  # into the `returns` array\n",
    "  rewards = tf.cast(rewards[::-1], dtype=tf.float32)\n",
    "  discounted_sum = tf.constant(0.0)\n",
    "  discounted_sum_shape = discounted_sum.shape\n",
    "  for i in tf.range(n):\n",
    "    reward = rewards[i]\n",
    "    discounted_sum = reward + gamma * discounted_sum\n",
    "    discounted_sum.set_shape(discounted_sum_shape)\n",
    "    returns = returns.write(i, discounted_sum)\n",
    "  returns = returns.stack()[::-1]\n",
    "\n",
    "  if standardize:\n",
    "    returns = ((returns - tf.math.reduce_mean(returns)) / \n",
    "               (tf.math.reduce_std(returns) + eps))\n",
    "\n",
    "  return returns"
   ]
  },
  {
   "cell_type": "markdown",
   "metadata": {
    "id": "1hrPLrgGxlvb"
   },
   "source": [
    "### 3. The actor-critic loss\n",
    "\n",
    "Since we are using a hybrid actor-critic model, we will use loss function that is a combination of actor and critic losses for training, as shown below:\n",
    "\n",
    "$$L = L_{actor} + L_{critic}$$\n",
    "\n",
    "#### Actor loss\n",
    "\n",
    "$$L_{actor} = -\\sum^{T}_{t=1} log\\pi_{\\theta}(a_{t} | s_{t})[G(s_{t}, a_{t})  - V^{\\pi}_{\\theta}(s_{t})]$$\n",
    "\n",
    "where:\n",
    "- $T$: the number of timesteps per episode, which can vary per episode\n",
    "- $s_{t}$: the state at timestep $t$\n",
    "- $a_{t}$: chosen action at timestep $t$ given state $s$\n",
    "- $\\pi_{\\theta}$: is the policy (actor) parameterized by $\\theta$\n",
    "- $V^{\\pi}_{\\theta}$: is the value function (critic) also parameterized by $\\theta$\n",
    "- $G = G_{t}$: the expected return for a given state, action pair at timestep $t$\n",
    "\n",
    "We add a negative term to the sum since we want to maximize the probabilities of actions yielding higher rewards by minimizing the combined loss.\n",
    "\n",
    "<br>\n",
    "\n",
    "#### Critic loss\n",
    "\n",
    "Training $V$ to be as close possible to $G$ can be set up as a regression problem with the following loss function:\n",
    "\n",
    "$$L_{critic} = L_{\\delta}(G, V^{\\pi}_{\\theta})$$\n",
    "\n",
    "where $L_{\\delta}$ is the [Huber loss](https://en.wikipedia.org/wiki/Huber_loss), which is less sensitive to outliers in data than squared-error loss.\n"
   ]
  },
  {
   "cell_type": "code",
   "execution_count": 7,
   "metadata": {
    "id": "9EXwbEez6n9m"
   },
   "outputs": [],
   "source": [
    "huber_loss = tf.keras.losses.Huber(reduction=tf.keras.losses.Reduction.SUM)\n",
    "\n",
    "def compute_loss(\n",
    "    action_probs: tf.Tensor,  \n",
    "    values: tf.Tensor,  \n",
    "    returns: tf.Tensor) -> tf.Tensor:\n",
    "  \"\"\"Computes the combined actor-critic loss.\"\"\"\n",
    "\n",
    "  advantage = returns - values\n",
    "\n",
    "  action_log_probs = tf.math.log(action_probs)\n",
    "  actor_loss = -tf.math.reduce_sum(action_log_probs * advantage)\n",
    "\n",
    "  critic_loss = huber_loss(values, returns)\n",
    "\n",
    "  return actor_loss + critic_loss"
   ]
  },
  {
   "cell_type": "markdown",
   "metadata": {
    "id": "HSYkQOmRfV75"
   },
   "source": [
    "### 4. Defining the training step to update parameters\n",
    "\n",
    "We combine all of the steps above into a training step that is run every episode. All steps leading up to the loss function are executed with the `tf.GradientTape` context to enable automatic differentiation.\n",
    "\n",
    "We use the Adam optimizer to apply the gradients to the model parameters.\n",
    "\n",
    "We also compute the sum of the undiscounted rewards, `episode_reward`, in this step which would be used later on to evaluate if we have met the success criterion.\n",
    "\n",
    "We apply the `tf.function` context to the `train_step` function so that it can be compiled into a callable TensorFlow graph, which can lead to 10x speedup in training.\n"
   ]
  },
  {
   "cell_type": "code",
   "execution_count": 8,
   "metadata": {
    "id": "QoccrkF3IFCg"
   },
   "outputs": [],
   "source": [
    "optimizer = tf.keras.optimizers.Adam(learning_rate=0.01)\n",
    "\n",
    "\n",
    "@tf.function\n",
    "def train_step(\n",
    "    initial_state: tf.Tensor, \n",
    "    model: tf.keras.Model, \n",
    "    optimizer: tf.keras.optimizers.Optimizer, \n",
    "    gamma: float, \n",
    "    max_steps_per_episode: int) -> tf.Tensor:\n",
    "  \"\"\"Runs a model training step.\"\"\"\n",
    "\n",
    "  with tf.GradientTape() as tape:\n",
    "\n",
    "    # Run the model for one episode to collect training data\n",
    "    action_probs, values, rewards = run_episode(\n",
    "        initial_state, model, max_steps_per_episode) \n",
    "\n",
    "    # Calculate expected returns\n",
    "    returns = get_expected_return(rewards, gamma)\n",
    "\n",
    "    # Convert training data to appropriate TF tensor shapes\n",
    "    action_probs, values, returns = [\n",
    "        tf.expand_dims(x, 1) for x in [action_probs, values, returns]] \n",
    "\n",
    "    # Calculating loss values to update our network\n",
    "    loss = compute_loss(action_probs, values, returns)\n",
    "\n",
    "  # Compute the gradients from the loss\n",
    "  grads = tape.gradient(loss, model.trainable_variables)\n",
    "\n",
    "  # Apply the gradients to the model's parameters\n",
    "  optimizer.apply_gradients(zip(grads, model.trainable_variables))\n",
    "\n",
    "  episode_reward = tf.math.reduce_sum(rewards)\n",
    "\n",
    "  return episode_reward"
   ]
  },
  {
   "cell_type": "markdown",
   "metadata": {
    "id": "HFvZiDoAflGK"
   },
   "source": [
    "### 5. Run the training loop\n",
    "\n",
    "We execute training by run the training step until either the success criterion or maximum number of episodes is reached.  \n",
    "\n",
    "We keep a running record of episode rewards using a queue. Once 100 trials are reached, the oldest reward is removed at the left (tail) end of the queue and the newest one is added at the head (right). A running sum of the rewards is also maintained for computational efficiency. \n",
    "\n",
    "Depending on your runtime, training can finish in less than a minute."
   ]
  },
  {
   "cell_type": "code",
   "execution_count": 9,
   "metadata": {
    "id": "kbmBxnzLiUJx"
   },
   "outputs": [
    {
     "name": "stderr",
     "output_type": "stream",
     "text": [
      "Episode 1511:  15%|█▌        | 1511/10000 [02:15<12:43, 11.12it/s, episode_reward=200, running_reward=195]"
     ]
    },
    {
     "name": "stdout",
     "output_type": "stream",
     "text": [
      "\n",
      "Solved at episode 1511: average reward: 195.00!\n",
      "CPU times: user 4min, sys: 42.9 s, total: 4min 43s\n",
      "Wall time: 2min 15s\n"
     ]
    },
    {
     "name": "stderr",
     "output_type": "stream",
     "text": [
      "\n"
     ]
    }
   ],
   "source": [
    "%%time\n",
    "\n",
    "max_episodes = 10000\n",
    "max_steps_per_episode = 1000\n",
    "\n",
    "# Cartpole-v0 is considered solved if average reward is >= 195 over 100 \n",
    "# consecutive trials\n",
    "reward_threshold = 195\n",
    "running_reward = 0\n",
    "\n",
    "# Discount factor for future rewards\n",
    "gamma = 0.99\n",
    "\n",
    "with tqdm.trange(max_episodes) as t:\n",
    "  for i in t:\n",
    "    initial_state = tf.constant(env.reset(), dtype=tf.float32)\n",
    "    episode_reward = int(train_step(\n",
    "        initial_state, model, optimizer, gamma, max_steps_per_episode))\n",
    "\n",
    "    running_reward = episode_reward*0.01 + running_reward*.99\n",
    "  \n",
    "    t.set_description(f'Episode {i}')\n",
    "    t.set_postfix(\n",
    "        episode_reward=episode_reward, running_reward=running_reward)\n",
    "  \n",
    "    # Show average episode reward every 10 episodes\n",
    "    if i % 10 == 0:\n",
    "      pass # print(f'Episode {i}: average reward: {avg_reward}')\n",
    "  \n",
    "    if running_reward > reward_threshold:  \n",
    "        break\n",
    "\n",
    "print(f'\\nSolved at episode {i}: average reward: {running_reward:.2f}!')"
   ]
  },
  {
   "cell_type": "markdown",
   "metadata": {
    "id": "ru8BEwS1EmAv"
   },
   "source": [
    "## Visualization\n",
    "\n",
    "After training, it would be good to visualize how the model performs in the environment. You can run the cells below to generate a GIF animation of one episode run of the model. Note that additional packages need to be installed for OpenAI Gym to render the environment's images correctly in Colab."
   ]
  },
  {
   "cell_type": "code",
   "execution_count": 13,
   "metadata": {
    "id": "qbIMMkfmRHyC"
   },
   "outputs": [],
   "source": [
    "# Render an episode and save as a GIF file\n",
    "\n",
    "from IPython import display as ipythondisplay\n",
    "from PIL import Image\n",
    "from pyvirtualdisplay import Display\n",
    "\n",
    "\n",
    "display = Display(visible=0, size=(400, 300))\n",
    "display.start()\n",
    "\n",
    "max_steps_per_episode = 1000\n",
    "def render_episode(env: gym.Env, model: tf.keras.Model, max_steps: int): \n",
    "  screen = env.render(mode='rgb_array')\n",
    "  im = Image.fromarray(screen)\n",
    "\n",
    "  images = [im]\n",
    "  \n",
    "  state = tf.constant(env.reset(), dtype=tf.float32)\n",
    "  for i in range(1, max_steps + 1):\n",
    "    state = tf.expand_dims(state, 0)\n",
    "    action_probs, _ = model(state)\n",
    "    action = np.argmax(np.squeeze(action_probs))\n",
    "\n",
    "    state, _, done, _ = env.step(action)\n",
    "    state = tf.constant(state, dtype=tf.float32)\n",
    "\n",
    "    # Render screen every 10 steps\n",
    "    if i % 10 == 0:\n",
    "      screen = env.render(mode='rgb_array')\n",
    "      images.append(Image.fromarray(screen))\n",
    "  \n",
    "    if done:\n",
    "      break\n",
    "  \n",
    "  return images\n",
    "\n",
    "\n",
    "# Save GIF image\n",
    "images = render_episode(env, model, max_steps_per_episode)\n",
    "image_file = 'cartpole-v0.gif'\n",
    "# loop=0: loop forever, duration=1: play each frame for 1ms\n",
    "images[0].save(\n",
    "    image_file, save_all=True, append_images=images[1:], loop=0, duration=1)"
   ]
  },
  {
   "cell_type": "code",
   "execution_count": 15,
   "metadata": {
    "id": "TLd720SejKmf"
   },
   "outputs": [
    {
     "data": {
      "text/html": [
       "<img src=\"data:image/gif;base64,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\"/>"
      ],
      "text/plain": [
       "<IPython.core.display.HTML object>"
      ]
     },
     "execution_count": 15,
     "metadata": {},
     "output_type": "execute_result"
    }
   ],
   "source": [
    "import tensorflow_docs.vis.embed as embed\n",
    "embed.embed_file(image_file)"
   ]
  },
  {
   "cell_type": "markdown",
   "metadata": {},
   "source": [
    "## References\n",
    "\n",
    "1. https://en.wikipedia.org/wiki/Reinforcement_learning\n",
    "2. https://www.learndatasci.com/tutorials/reinforcement-q-learning-scratch-python-openai-gym/"
   ]
  }
 ],
 "metadata": {
  "colab": {
   "collapsed_sections": [
    "_jQ1tEQCxwRx"
   ],
   "name": "actor_critic.ipynb",
   "toc_visible": true
  },
  "kernelspec": {
   "display_name": "Python 3",
   "language": "python",
   "name": "python3"
  },
  "language_info": {
   "codemirror_mode": {
    "name": "ipython",
    "version": 3
   },
   "file_extension": ".py",
   "mimetype": "text/x-python",
   "name": "python",
   "nbconvert_exporter": "python",
   "pygments_lexer": "ipython3",
   "version": "3.7.3"
  }
 },
 "nbformat": 4,
 "nbformat_minor": 1
}
