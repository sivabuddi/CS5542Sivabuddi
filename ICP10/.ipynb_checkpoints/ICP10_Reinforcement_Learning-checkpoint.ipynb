{
 "cells": [
  {
   "cell_type": "markdown",
   "metadata": {
    "id": "p62G8M_viUJp"
   },
   "source": [
    "## ICP10 on Reinforcement learning using CartPole with Actor-Critic Method"
   ]
  },
  {
   "cell_type": "markdown",
   "metadata": {
    "id": "p62G8M_viUJp"
   },
   "source": [
    "##### Playing CartPole with the Actor-Critic Method"
   ]
  },
  {
   "cell_type": "markdown",
   "metadata": {
    "id": "kFgN7h_wiUJq"
   },
   "source": [
    "This tutorial demonstrates how to implement the [Actor-Critic](https://papers.nips.cc/paper/1786-actor-critic-algorithms.pdf) method using TensorFlow to train an agent on the [Open AI Gym](https://gym.openai.com/) CartPole-V0 environment.\n",
    "The reader is assumed to have some familiarity with [policy gradient methods](https://papers.nips.cc/paper/1713-policy-gradient-methods-for-reinforcement-learning-with-function-approximation.pdf) of reinforcement learning."
   ]
  },
  {
   "cell_type": "markdown",
   "metadata": {
    "id": "_kA10ZKRR0hi"
   },
   "source": [
    "**Actor-Critic methods**\n",
    "\n",
    "Actor-Critic methods are [temporal difference (TD) learning](https://en.wikipedia.org/wiki/Temporal_difference_learning) methods that represent the policy function independent of the value function. \n",
    "\n",
    "A policy function (or policy) returns a probability distribution over actions that the agent can take based on the given state.\n",
    "A value function determines the expected return for an agent starting at a given state and acting according to a particular policy forever after.\n",
    "\n",
    "In the Actor-Critic method, the policy is referred to as the *actor* that proposes a set of possible actions given a state, and the estimated value function is referred to as the *critic*, which evaluates actions taken by the *actor* based on the given policy.\n",
    "\n",
    "In this tutorial, both the *Actor* and *Critic* will be represented using one neural network with two outputs.\n"
   ]
  },
  {
   "cell_type": "markdown",
   "metadata": {
    "id": "rBfiafKSRs2k"
   },
   "source": [
    "**CartPole-v0**\n",
    "\n",
    "In the [CartPole-v0 environment](https://gym.openai.com/envs/CartPole-v0), a pole is attached to a cart moving along a frictionless track. \n",
    "The pole starts upright and the goal of the agent is to prevent it from falling over by applying a force of -1 or +1 to the cart. \n",
    "A reward of +1 is given for every time step the pole remains upright.\n",
    "An episode ends when (1) the pole is more than 15 degrees from vertical or (2) the cart moves more than 2.4 units from the center.\n",
    "\n",
    "<center>\n",
    "  <figure>\n",
    "    <image src=\"images/cartpole-v0.gif\">\n",
    "    <figcaption>\n",
    "      Trained actor-critic model in Cartpole-v0 environment\n",
    "    </figcaption>\n",
    "  </figure>\n",
    "</center>\n"
   ]
  },
  {
   "cell_type": "markdown",
   "metadata": {
    "id": "XSNVK0AeRoJd"
   },
   "source": [
    "The problem is considered \"solved\" when the average total reward for the episode reaches 195 over 100 consecutive trials."
   ]
  },
  {
   "cell_type": "markdown",
   "metadata": {
    "id": "glLwIctHiUJq"
   },
   "source": [
    "## Setup\n",
    "\n",
    "Import necessary packages and configure global settings.\n"
   ]
  },
  {
   "cell_type": "code",
   "execution_count": null,
   "metadata": {
    "id": "13l6BbxKhCKp"
   },
   "outputs": [],
   "source": [
    "!pip install -q gym"
   ]
  },
  {
   "cell_type": "code",
   "execution_count": null,
   "metadata": {
    "id": "WBeQhPi2S4m5"
   },
   "outputs": [],
   "source": [
    "%%bash\n",
    "Install additional packages for visualization\n",
    "sudo apt-get install -y xvfb python-opengl > /dev/null 2>&1\n",
    "pip install -q pyvirtualdisplay > /dev/null 2>&1\n",
    "pip install -q git+https://github.com/tensorflow/docs > /dev/null 2>&1"
   ]
  },
  {
   "cell_type": "code",
   "execution_count": 17,
   "metadata": {
    "id": "tT4N3qYviUJr"
   },
   "outputs": [],
   "source": [
    "import collections\n",
    "import gym\n",
    "import numpy as np\n",
    "import tensorflow as tf\n",
    "import tqdm\n",
    "\n",
    "from matplotlib import pyplot as plt\n",
    "from tensorflow.keras import layers\n",
    "from typing import Any, List, Sequence, Tuple\n",
    "\n",
    "\n",
    "# Create the environment\n",
    "env = gym.make(\"CartPole-v0\")\n",
    "# Set seed for experiment reproducibility\n",
    "seed = 42\n",
    "env.seed(seed)\n",
    "tf.random.set_seed(seed)\n",
    "np.random.seed(seed)\n",
    "\n",
    "# Small epsilon value for stabilizing division operations\n",
    "eps = np.finfo(np.float32).eps.item()"
   ]
  },
  {
   "cell_type": "markdown",
   "metadata": {
    "id": "AOUCe2D0iUJu"
   },
   "source": [
    "## Model\n",
    "\n",
    "The *Actor* and *Critic* will be modeled using one neural network that generates the action probabilities and critic value respectively. We use model subclassing to define the model. \n",
    "\n",
    "During the forward pass, the model will take in the state as the input and will output both action probabilities and critic value $V$, which models the state-dependent value function. The goal is to train a model that chooses actions based on a policy $\\pi$ that maximizes expected return.\n",
    "\n",
    "For Cartpole-v0, there are four values representing the state: cart position, cart-velocity, pole angle and pole velocity respectively. The agent can take two actions to push the cart left (0) and right (1) respectively.\n",
    "\n"
   ]
  },
  {
   "cell_type": "code",
   "execution_count": 18,
   "metadata": {
    "id": "aXKbbMC-kmuv"
   },
   "outputs": [],
   "source": [
    "class ActorCritic(tf.keras.Model):\n",
    "  \"\"\"Combined actor-critic network.\"\"\"\n",
    "\n",
    "  def __init__(\n",
    "      self, \n",
    "      num_actions: int, \n",
    "      num_hidden_units: int):\n",
    "    \"\"\"Initialize.\"\"\"\n",
    "    super().__init__()\n",
    "\n",
    "    self.common = layers.Dense(num_hidden_units, activation=\"relu\")\n",
    "    self.actor = layers.Dense(num_actions)\n",
    "    self.critic = layers.Dense(1)\n",
    "\n",
    "  def call(self, inputs: tf.Tensor) -> Tuple[tf.Tensor, tf.Tensor]:\n",
    "    x = self.common(inputs)\n",
    "    return self.actor(x), self.critic(x)"
   ]
  },
  {
   "cell_type": "code",
   "execution_count": 19,
   "metadata": {
    "id": "nWyxJgjLn68c"
   },
   "outputs": [],
   "source": [
    "num_actions = env.action_space.n  # 2\n",
    "num_hidden_units = 128\n",
    "\n",
    "model = ActorCritic(num_actions, num_hidden_units)"
   ]
  },
  {
   "cell_type": "markdown",
   "metadata": {
    "id": "hk92njFziUJw"
   },
   "source": [
    "## Training\n",
    "\n",
    "To train the agent, you will follow these steps:\n",
    "\n",
    "1. Run the agent on the environment to collect training data per episode.\n",
    "2. Compute expected return at each time step.\n",
    "3. Compute the loss for the combined actor-critic model.\n",
    "4. Compute gradients and update network parameters.\n",
    "5. Repeat 1-4 until either success criterion or max episodes has been reached.\n"
   ]
  },
  {
   "cell_type": "markdown",
   "metadata": {
    "id": "R2nde2XDs8Gh"
   },
   "source": [
    "### 1. Collecting training data\n",
    "\n",
    "As in supervised learning, in order to train the actor-critic model, we need\n",
    "to have training data. However, in order to collect such data, the model would\n",
    "need to be \"run\" in the environment.\n",
    "\n",
    "We collect training data for each episode. Then at each time step, the model's forward pass will be run on the environment's state in order to generate action probabilities and the critic value based on the current policy parameterized by the model's weights.\n",
    "\n",
    "The next action will be sampled from the action probabilities generated by the model, which would then be applied to the environment, causing the next state and reward to be generated.\n",
    "\n",
    "This process is implemented in the `run_episode` function, which uses TensorFlow operations so that it can later be compiled into a TensorFlow graph for faster training. Note that `tf.TensorArray`s were used to support Tensor iteration on variable length arrays."
   ]
  },
  {
   "cell_type": "code",
   "execution_count": 20,
   "metadata": {
    "id": "5URrbGlDSAGx"
   },
   "outputs": [],
   "source": [
    "# Wrap OpenAI Gym's `env.step` call as an operation in a TensorFlow function.\n",
    "# This would allow it to be included in a callable TensorFlow graph.\n",
    "\n",
    "def env_step(action: np.ndarray) -> Tuple[np.ndarray, np.ndarray, np.ndarray]:\n",
    "  \"\"\"Returns state, reward and done flag given an action.\"\"\"\n",
    "\n",
    "  state, reward, done, _ = env.step(action)\n",
    "  return (state.astype(np.float32), \n",
    "          np.array(reward, np.int32), \n",
    "          np.array(done, np.int32))\n",
    "\n",
    "\n",
    "def tf_env_step(action: tf.Tensor) -> List[tf.Tensor]:\n",
    "  return tf.numpy_function(env_step, [action], \n",
    "                           [tf.float32, tf.int32, tf.int32])"
   ]
  },
  {
   "cell_type": "code",
   "execution_count": 21,
   "metadata": {
    "id": "a4qVRV063Cl9"
   },
   "outputs": [],
   "source": [
    "def run_episode(\n",
    "    initial_state: tf.Tensor,  \n",
    "    model: tf.keras.Model, \n",
    "    max_steps: int) -> List[tf.Tensor]:\n",
    "  \"\"\"Runs a single episode to collect training data.\"\"\"\n",
    "\n",
    "  action_probs = tf.TensorArray(dtype=tf.float32, size=0, dynamic_size=True)\n",
    "  values = tf.TensorArray(dtype=tf.float32, size=0, dynamic_size=True)\n",
    "  rewards = tf.TensorArray(dtype=tf.int32, size=0, dynamic_size=True)\n",
    "\n",
    "  initial_state_shape = initial_state.shape\n",
    "  state = initial_state\n",
    "\n",
    "  for t in tf.range(max_steps):\n",
    "    # Convert state into a batched tensor (batch size = 1)\n",
    "    state = tf.expand_dims(state, 0)\n",
    "  \n",
    "    # Run the model and to get action probabilities and critic value\n",
    "    action_logits_t, value = model(state)\n",
    "  \n",
    "    # Sample next action from the action probability distribution\n",
    "    action = tf.random.categorical(action_logits_t, 1)[0, 0]\n",
    "    action_probs_t = tf.nn.softmax(action_logits_t)\n",
    "\n",
    "    # Store critic values\n",
    "    values = values.write(t, tf.squeeze(value))\n",
    "\n",
    "    # Store log probability of the action chosen\n",
    "    action_probs = action_probs.write(t, action_probs_t[0, action])\n",
    "  \n",
    "    # Apply action to the environment to get next state and reward\n",
    "    state, reward, done = tf_env_step(action)\n",
    "    state.set_shape(initial_state_shape)\n",
    "  \n",
    "    # Store reward\n",
    "    rewards = rewards.write(t, reward)\n",
    "\n",
    "    if tf.cast(done, tf.bool):\n",
    "      break\n",
    "\n",
    "  action_probs = action_probs.stack()\n",
    "  values = values.stack()\n",
    "  rewards = rewards.stack()\n",
    "  \n",
    "  return action_probs, values, rewards"
   ]
  },
  {
   "cell_type": "markdown",
   "metadata": {
    "id": "lBnIHdz22dIx"
   },
   "source": [
    "### 2. Computing expected returns\n",
    "\n",
    "We convert the sequence of rewards for each timestep $t$, $\\{r_{t}\\}^{T}_{t=1}$ collected during one episode into a sequence of expected returns $\\{G_{t}\\}^{T}_{t=1}$ in which the sum of rewards is taken from the current timestep $t$ to $T$ and each reward is multiplied with an exponentially decaying discount factor $\\gamma$:\n",
    "\n",
    "$$G_{t} = \\sum^{T}_{t'=t} \\gamma^{t'-t}r_{t'}$$\n",
    "\n",
    "Since $\\gamma\\in(0,1)$, rewards further out from the current timestep are given less weight.\n",
    "\n",
    "Intuitively, expected return simply implies that rewards now are better than rewards later. In a mathematical sense, it is to ensure that the sum of the rewards converges.\n",
    "\n",
    "To stabilize training, we also standardize the resulting sequence of returns (i.e. to have zero mean and unit standard deviation).\n"
   ]
  },
  {
   "cell_type": "code",
   "execution_count": 22,
   "metadata": {
    "id": "jpEwFyl315dl"
   },
   "outputs": [
    {
     "ename": "SyntaxError",
     "evalue": "invalid syntax (<ipython-input-22-6541c621377d>, line 1)",
     "output_type": "error",
     "traceback": [
      "\u001b[0;36m  File \u001b[0;32m\"<ipython-input-22-6541c621377d>\"\u001b[0;36m, line \u001b[0;32m1\u001b[0m\n\u001b[0;31m    b. Compute expected return at each time step. def get_expected_return(\u001b[0m\n\u001b[0m                      ^\u001b[0m\n\u001b[0;31mSyntaxError\u001b[0m\u001b[0;31m:\u001b[0m invalid syntax\n"
     ]
    }
   ],
   "source": [
    "b. Compute expected return at each time step. def get_expected_return(\n",
    "    rewards: tf.Tensor, \n",
    "    gamma: float, \n",
    "    standardize: bool = True) -> tf.Tensor:\n",
    "  \"\"\"Compute expected returns per timestep.\"\"\"\n",
    "\n",
    "  n = tf.shape(rewards)[0]\n",
    "  returns = tf.TensorArray(dtype=tf.float32, size=n)\n",
    "\n",
    "  # Start from the end of `rewards` and accumulate reward sums\n",
    "  # into the `returns` array\n",
    "  rewards = tf.cast(rewards[::-1], dtype=tf.float32)\n",
    "  discounted_sum = tf.constant(0.0)\n",
    "  discounted_sum_shape = discounted_sum.shape\n",
    "  for i in tf.range(n):\n",
    "    reward = rewards[i]\n",
    "    discounted_sum = reward + gamma * discounted_sum\n",
    "    discounted_sum.set_shape(discounted_sum_shape)\n",
    "    returns = returns.write(i, discounted_sum)\n",
    "  returns = returns.stack()[::-1]\n",
    "\n",
    "  if standardize:\n",
    "    returns = ((returns - tf.math.reduce_mean(returns)) / \n",
    "               (tf.math.reduce_std(returns) + eps))\n",
    "\n",
    "  return returns"
   ]
  },
  {
   "cell_type": "markdown",
   "metadata": {
    "id": "1hrPLrgGxlvb"
   },
   "source": [
    "### 3. The actor-critic loss\n",
    "\n",
    "Since we are using a hybrid actor-critic model, we will use loss function that is a combination of actor and critic losses for training, as shown below:\n",
    "\n",
    "$$L = L_{actor} + L_{critic}$$\n",
    "\n",
    "#### Actor loss\n",
    "\n",
    "$$L_{actor} = -\\sum^{T}_{t=1} log\\pi_{\\theta}(a_{t} | s_{t})[G(s_{t}, a_{t})  - V^{\\pi}_{\\theta}(s_{t})]$$\n",
    "\n",
    "where:\n",
    "- $T$: the number of timesteps per episode, which can vary per episode\n",
    "- $s_{t}$: the state at timestep $t$\n",
    "- $a_{t}$: chosen action at timestep $t$ given state $s$\n",
    "- $\\pi_{\\theta}$: is the policy (actor) parameterized by $\\theta$\n",
    "- $V^{\\pi}_{\\theta}$: is the value function (critic) also parameterized by $\\theta$\n",
    "- $G = G_{t}$: the expected return for a given state, action pair at timestep $t$\n",
    "\n",
    "We add a negative term to the sum since we want to maximize the probabilities of actions yielding higher rewards by minimizing the combined loss.\n",
    "\n",
    "<br>\n",
    "\n",
    "#### Critic loss\n",
    "\n",
    "Training $V$ to be as close possible to $G$ can be set up as a regression problem with the following loss function:\n",
    "\n",
    "$$L_{critic} = L_{\\delta}(G, V^{\\pi}_{\\theta})$$\n",
    "\n",
    "where $L_{\\delta}$ is the [Huber loss](https://en.wikipedia.org/wiki/Huber_loss), which is less sensitive to outliers in data than squared-error loss.\n"
   ]
  },
  {
   "cell_type": "code",
   "execution_count": 23,
   "metadata": {
    "id": "9EXwbEez6n9m"
   },
   "outputs": [],
   "source": [
    "huber_loss = tf.keras.losses.Huber(reduction=tf.keras.losses.Reduction.SUM)\n",
    "\n",
    "def compute_loss(\n",
    "    action_probs: tf.Tensor,  \n",
    "    values: tf.Tensor,  \n",
    "    returns: tf.Tensor) -> tf.Tensor:\n",
    "  \"\"\"Computes the combined actor-critic loss.\"\"\"\n",
    "\n",
    "  advantage = returns - values\n",
    "\n",
    "  action_log_probs = tf.math.log(action_probs)\n",
    "  actor_loss = -tf.math.reduce_sum(action_log_probs * advantage)\n",
    "\n",
    "  critic_loss = huber_loss(values, returns)\n",
    "\n",
    "  return actor_loss + critic_loss"
   ]
  },
  {
   "cell_type": "markdown",
   "metadata": {
    "id": "HSYkQOmRfV75"
   },
   "source": [
    "### 4. Defining the training step to update parameters\n",
    "\n",
    "We combine all of the steps above into a training step that is run every episode. All steps leading up to the loss function are executed with the `tf.GradientTape` context to enable automatic differentiation.\n",
    "\n",
    "We use the Adam optimizer to apply the gradients to the model parameters.\n",
    "\n",
    "We also compute the sum of the undiscounted rewards, `episode_reward`, in this step which would be used later on to evaluate if we have met the success criterion.\n",
    "\n",
    "We apply the `tf.function` context to the `train_step` function so that it can be compiled into a callable TensorFlow graph, which can lead to 10x speedup in training.\n"
   ]
  },
  {
   "cell_type": "code",
   "execution_count": 24,
   "metadata": {
    "id": "QoccrkF3IFCg"
   },
   "outputs": [],
   "source": [
    "optimizer = tf.keras.optimizers.Adam(learning_rate=0.01)\n",
    "\n",
    "\n",
    "@tf.function\n",
    "def train_step(\n",
    "    initial_state: tf.Tensor, \n",
    "    model: tf.keras.Model, \n",
    "    optimizer: tf.keras.optimizers.Optimizer, \n",
    "    gamma: float, \n",
    "    max_steps_per_episode: int) -> tf.Tensor:\n",
    "  \"\"\"Runs a model training step.\"\"\"\n",
    "\n",
    "  with tf.GradientTape() as tape:\n",
    "\n",
    "    # Run the model for one episode to collect training data\n",
    "    action_probs, values, rewards = run_episode(\n",
    "        initial_state, model, max_steps_per_episode) \n",
    "\n",
    "    # Calculate expected returns\n",
    "    returns = get_expected_return(rewards, gamma)\n",
    "\n",
    "    # Convert training data to appropriate TF tensor shapes\n",
    "    action_probs, values, returns = [\n",
    "        tf.expand_dims(x, 1) for x in [action_probs, values, returns]] \n",
    "\n",
    "    # Calculating loss values to update our network\n",
    "    loss = compute_loss(action_probs, values, returns)\n",
    "\n",
    "  # Compute the gradients from the loss\n",
    "  grads = tape.gradient(loss, model.trainable_variables)\n",
    "\n",
    "  # Apply the gradients to the model's parameters\n",
    "  optimizer.apply_gradients(zip(grads, model.trainable_variables))\n",
    "\n",
    "  episode_reward = tf.math.reduce_sum(rewards)\n",
    "\n",
    "  return episode_reward"
   ]
  },
  {
   "cell_type": "markdown",
   "metadata": {
    "id": "HFvZiDoAflGK"
   },
   "source": [
    "### 5. Run the training loop\n",
    "\n",
    "We execute training by run the training step until either the success criterion or maximum number of episodes is reached.  \n",
    "\n",
    "We keep a running record of episode rewards using a queue. Once 100 trials are reached, the oldest reward is removed at the left (tail) end of the queue and the newest one is added at the head (right). A running sum of the rewards is also maintained for computational efficiency. \n",
    "\n",
    "Depending on your runtime, training can finish in less than a minute."
   ]
  },
  {
   "cell_type": "code",
   "execution_count": 25,
   "metadata": {
    "id": "kbmBxnzLiUJx"
   },
   "outputs": [
    {
     "name": "stderr",
     "output_type": "stream",
     "text": [
      "  0%|          | 0/10000 [00:00<?, ?it/s]\n"
     ]
    },
    {
     "ename": "NameError",
     "evalue": "in user code:\n\n    <ipython-input-24-f7d82fbf9b08>:20 train_step  *\n        returns = get_expected_return(rewards, gamma)\n\n    NameError: name 'get_expected_return' is not defined\n",
     "output_type": "error",
     "traceback": [
      "\u001b[0;31m---------------------------------------------------------------------------\u001b[0m",
      "\u001b[0;31mNameError\u001b[0m                                 Traceback (most recent call last)",
      "\u001b[0;32m<timed exec>\u001b[0m in \u001b[0;36m<module>\u001b[0;34m\u001b[0m\n",
      "\u001b[0;32m~/.local/lib/python3.7/site-packages/tensorflow/python/eager/def_function.py\u001b[0m in \u001b[0;36m__call__\u001b[0;34m(self, *args, **kwds)\u001b[0m\n\u001b[1;32m    778\u001b[0m       \u001b[0;32melse\u001b[0m\u001b[0;34m:\u001b[0m\u001b[0;34m\u001b[0m\u001b[0;34m\u001b[0m\u001b[0m\n\u001b[1;32m    779\u001b[0m         \u001b[0mcompiler\u001b[0m \u001b[0;34m=\u001b[0m \u001b[0;34m\"nonXla\"\u001b[0m\u001b[0;34m\u001b[0m\u001b[0;34m\u001b[0m\u001b[0m\n\u001b[0;32m--> 780\u001b[0;31m         \u001b[0mresult\u001b[0m \u001b[0;34m=\u001b[0m \u001b[0mself\u001b[0m\u001b[0;34m.\u001b[0m\u001b[0m_call\u001b[0m\u001b[0;34m(\u001b[0m\u001b[0;34m*\u001b[0m\u001b[0margs\u001b[0m\u001b[0;34m,\u001b[0m \u001b[0;34m**\u001b[0m\u001b[0mkwds\u001b[0m\u001b[0;34m)\u001b[0m\u001b[0;34m\u001b[0m\u001b[0;34m\u001b[0m\u001b[0m\n\u001b[0m\u001b[1;32m    781\u001b[0m \u001b[0;34m\u001b[0m\u001b[0m\n\u001b[1;32m    782\u001b[0m       \u001b[0mnew_tracing_count\u001b[0m \u001b[0;34m=\u001b[0m \u001b[0mself\u001b[0m\u001b[0;34m.\u001b[0m\u001b[0m_get_tracing_count\u001b[0m\u001b[0;34m(\u001b[0m\u001b[0;34m)\u001b[0m\u001b[0;34m\u001b[0m\u001b[0;34m\u001b[0m\u001b[0m\n",
      "\u001b[0;32m~/.local/lib/python3.7/site-packages/tensorflow/python/eager/def_function.py\u001b[0m in \u001b[0;36m_call\u001b[0;34m(self, *args, **kwds)\u001b[0m\n\u001b[1;32m    821\u001b[0m       \u001b[0;31m# This is the first call of __call__, so we have to initialize.\u001b[0m\u001b[0;34m\u001b[0m\u001b[0;34m\u001b[0m\u001b[0;34m\u001b[0m\u001b[0m\n\u001b[1;32m    822\u001b[0m       \u001b[0minitializers\u001b[0m \u001b[0;34m=\u001b[0m \u001b[0;34m[\u001b[0m\u001b[0;34m]\u001b[0m\u001b[0;34m\u001b[0m\u001b[0;34m\u001b[0m\u001b[0m\n\u001b[0;32m--> 823\u001b[0;31m       \u001b[0mself\u001b[0m\u001b[0;34m.\u001b[0m\u001b[0m_initialize\u001b[0m\u001b[0;34m(\u001b[0m\u001b[0margs\u001b[0m\u001b[0;34m,\u001b[0m \u001b[0mkwds\u001b[0m\u001b[0;34m,\u001b[0m \u001b[0madd_initializers_to\u001b[0m\u001b[0;34m=\u001b[0m\u001b[0minitializers\u001b[0m\u001b[0;34m)\u001b[0m\u001b[0;34m\u001b[0m\u001b[0;34m\u001b[0m\u001b[0m\n\u001b[0m\u001b[1;32m    824\u001b[0m     \u001b[0;32mfinally\u001b[0m\u001b[0;34m:\u001b[0m\u001b[0;34m\u001b[0m\u001b[0;34m\u001b[0m\u001b[0m\n\u001b[1;32m    825\u001b[0m       \u001b[0;31m# At this point we know that the initialization is complete (or less\u001b[0m\u001b[0;34m\u001b[0m\u001b[0;34m\u001b[0m\u001b[0;34m\u001b[0m\u001b[0m\n",
      "\u001b[0;32m~/.local/lib/python3.7/site-packages/tensorflow/python/eager/def_function.py\u001b[0m in \u001b[0;36m_initialize\u001b[0;34m(self, args, kwds, add_initializers_to)\u001b[0m\n\u001b[1;32m    695\u001b[0m     self._concrete_stateful_fn = (\n\u001b[1;32m    696\u001b[0m         self._stateful_fn._get_concrete_function_internal_garbage_collected(  # pylint: disable=protected-access\n\u001b[0;32m--> 697\u001b[0;31m             *args, **kwds))\n\u001b[0m\u001b[1;32m    698\u001b[0m \u001b[0;34m\u001b[0m\u001b[0m\n\u001b[1;32m    699\u001b[0m     \u001b[0;32mdef\u001b[0m \u001b[0minvalid_creator_scope\u001b[0m\u001b[0;34m(\u001b[0m\u001b[0;34m*\u001b[0m\u001b[0munused_args\u001b[0m\u001b[0;34m,\u001b[0m \u001b[0;34m**\u001b[0m\u001b[0munused_kwds\u001b[0m\u001b[0;34m)\u001b[0m\u001b[0;34m:\u001b[0m\u001b[0;34m\u001b[0m\u001b[0;34m\u001b[0m\u001b[0m\n",
      "\u001b[0;32m~/.local/lib/python3.7/site-packages/tensorflow/python/eager/function.py\u001b[0m in \u001b[0;36m_get_concrete_function_internal_garbage_collected\u001b[0;34m(self, *args, **kwargs)\u001b[0m\n\u001b[1;32m   2853\u001b[0m       \u001b[0margs\u001b[0m\u001b[0;34m,\u001b[0m \u001b[0mkwargs\u001b[0m \u001b[0;34m=\u001b[0m \u001b[0;32mNone\u001b[0m\u001b[0;34m,\u001b[0m \u001b[0;32mNone\u001b[0m\u001b[0;34m\u001b[0m\u001b[0;34m\u001b[0m\u001b[0m\n\u001b[1;32m   2854\u001b[0m     \u001b[0;32mwith\u001b[0m \u001b[0mself\u001b[0m\u001b[0;34m.\u001b[0m\u001b[0m_lock\u001b[0m\u001b[0;34m:\u001b[0m\u001b[0;34m\u001b[0m\u001b[0;34m\u001b[0m\u001b[0m\n\u001b[0;32m-> 2855\u001b[0;31m       \u001b[0mgraph_function\u001b[0m\u001b[0;34m,\u001b[0m \u001b[0m_\u001b[0m\u001b[0;34m,\u001b[0m \u001b[0m_\u001b[0m \u001b[0;34m=\u001b[0m \u001b[0mself\u001b[0m\u001b[0;34m.\u001b[0m\u001b[0m_maybe_define_function\u001b[0m\u001b[0;34m(\u001b[0m\u001b[0margs\u001b[0m\u001b[0;34m,\u001b[0m \u001b[0mkwargs\u001b[0m\u001b[0;34m)\u001b[0m\u001b[0;34m\u001b[0m\u001b[0;34m\u001b[0m\u001b[0m\n\u001b[0m\u001b[1;32m   2856\u001b[0m     \u001b[0;32mreturn\u001b[0m \u001b[0mgraph_function\u001b[0m\u001b[0;34m\u001b[0m\u001b[0;34m\u001b[0m\u001b[0m\n\u001b[1;32m   2857\u001b[0m \u001b[0;34m\u001b[0m\u001b[0m\n",
      "\u001b[0;32m~/.local/lib/python3.7/site-packages/tensorflow/python/eager/function.py\u001b[0m in \u001b[0;36m_maybe_define_function\u001b[0;34m(self, args, kwargs)\u001b[0m\n\u001b[1;32m   3211\u001b[0m \u001b[0;34m\u001b[0m\u001b[0m\n\u001b[1;32m   3212\u001b[0m       \u001b[0mself\u001b[0m\u001b[0;34m.\u001b[0m\u001b[0m_function_cache\u001b[0m\u001b[0;34m.\u001b[0m\u001b[0mmissed\u001b[0m\u001b[0;34m.\u001b[0m\u001b[0madd\u001b[0m\u001b[0;34m(\u001b[0m\u001b[0mcall_context_key\u001b[0m\u001b[0;34m)\u001b[0m\u001b[0;34m\u001b[0m\u001b[0;34m\u001b[0m\u001b[0m\n\u001b[0;32m-> 3213\u001b[0;31m       \u001b[0mgraph_function\u001b[0m \u001b[0;34m=\u001b[0m \u001b[0mself\u001b[0m\u001b[0;34m.\u001b[0m\u001b[0m_create_graph_function\u001b[0m\u001b[0;34m(\u001b[0m\u001b[0margs\u001b[0m\u001b[0;34m,\u001b[0m \u001b[0mkwargs\u001b[0m\u001b[0;34m)\u001b[0m\u001b[0;34m\u001b[0m\u001b[0;34m\u001b[0m\u001b[0m\n\u001b[0m\u001b[1;32m   3214\u001b[0m       \u001b[0mself\u001b[0m\u001b[0;34m.\u001b[0m\u001b[0m_function_cache\u001b[0m\u001b[0;34m.\u001b[0m\u001b[0mprimary\u001b[0m\u001b[0;34m[\u001b[0m\u001b[0mcache_key\u001b[0m\u001b[0;34m]\u001b[0m \u001b[0;34m=\u001b[0m \u001b[0mgraph_function\u001b[0m\u001b[0;34m\u001b[0m\u001b[0;34m\u001b[0m\u001b[0m\n\u001b[1;32m   3215\u001b[0m       \u001b[0;32mreturn\u001b[0m \u001b[0mgraph_function\u001b[0m\u001b[0;34m,\u001b[0m \u001b[0margs\u001b[0m\u001b[0;34m,\u001b[0m \u001b[0mkwargs\u001b[0m\u001b[0;34m\u001b[0m\u001b[0;34m\u001b[0m\u001b[0m\n",
      "\u001b[0;32m~/.local/lib/python3.7/site-packages/tensorflow/python/eager/function.py\u001b[0m in \u001b[0;36m_create_graph_function\u001b[0;34m(self, args, kwargs, override_flat_arg_shapes)\u001b[0m\n\u001b[1;32m   3073\u001b[0m             \u001b[0marg_names\u001b[0m\u001b[0;34m=\u001b[0m\u001b[0marg_names\u001b[0m\u001b[0;34m,\u001b[0m\u001b[0;34m\u001b[0m\u001b[0;34m\u001b[0m\u001b[0m\n\u001b[1;32m   3074\u001b[0m             \u001b[0moverride_flat_arg_shapes\u001b[0m\u001b[0;34m=\u001b[0m\u001b[0moverride_flat_arg_shapes\u001b[0m\u001b[0;34m,\u001b[0m\u001b[0;34m\u001b[0m\u001b[0;34m\u001b[0m\u001b[0m\n\u001b[0;32m-> 3075\u001b[0;31m             capture_by_value=self._capture_by_value),\n\u001b[0m\u001b[1;32m   3076\u001b[0m         \u001b[0mself\u001b[0m\u001b[0;34m.\u001b[0m\u001b[0m_function_attributes\u001b[0m\u001b[0;34m,\u001b[0m\u001b[0;34m\u001b[0m\u001b[0;34m\u001b[0m\u001b[0m\n\u001b[1;32m   3077\u001b[0m         \u001b[0mfunction_spec\u001b[0m\u001b[0;34m=\u001b[0m\u001b[0mself\u001b[0m\u001b[0;34m.\u001b[0m\u001b[0mfunction_spec\u001b[0m\u001b[0;34m,\u001b[0m\u001b[0;34m\u001b[0m\u001b[0;34m\u001b[0m\u001b[0m\n",
      "\u001b[0;32m~/.local/lib/python3.7/site-packages/tensorflow/python/framework/func_graph.py\u001b[0m in \u001b[0;36mfunc_graph_from_py_func\u001b[0;34m(name, python_func, args, kwargs, signature, func_graph, autograph, autograph_options, add_control_dependencies, arg_names, op_return_value, collections, capture_by_value, override_flat_arg_shapes)\u001b[0m\n\u001b[1;32m    984\u001b[0m         \u001b[0m_\u001b[0m\u001b[0;34m,\u001b[0m \u001b[0moriginal_func\u001b[0m \u001b[0;34m=\u001b[0m \u001b[0mtf_decorator\u001b[0m\u001b[0;34m.\u001b[0m\u001b[0munwrap\u001b[0m\u001b[0;34m(\u001b[0m\u001b[0mpython_func\u001b[0m\u001b[0;34m)\u001b[0m\u001b[0;34m\u001b[0m\u001b[0;34m\u001b[0m\u001b[0m\n\u001b[1;32m    985\u001b[0m \u001b[0;34m\u001b[0m\u001b[0m\n\u001b[0;32m--> 986\u001b[0;31m       \u001b[0mfunc_outputs\u001b[0m \u001b[0;34m=\u001b[0m \u001b[0mpython_func\u001b[0m\u001b[0;34m(\u001b[0m\u001b[0;34m*\u001b[0m\u001b[0mfunc_args\u001b[0m\u001b[0;34m,\u001b[0m \u001b[0;34m**\u001b[0m\u001b[0mfunc_kwargs\u001b[0m\u001b[0;34m)\u001b[0m\u001b[0;34m\u001b[0m\u001b[0;34m\u001b[0m\u001b[0m\n\u001b[0m\u001b[1;32m    987\u001b[0m \u001b[0;34m\u001b[0m\u001b[0m\n\u001b[1;32m    988\u001b[0m       \u001b[0;31m# invariant: `func_outputs` contains only Tensors, CompositeTensors,\u001b[0m\u001b[0;34m\u001b[0m\u001b[0;34m\u001b[0m\u001b[0;34m\u001b[0m\u001b[0m\n",
      "\u001b[0;32m~/.local/lib/python3.7/site-packages/tensorflow/python/eager/def_function.py\u001b[0m in \u001b[0;36mwrapped_fn\u001b[0;34m(*args, **kwds)\u001b[0m\n\u001b[1;32m    598\u001b[0m         \u001b[0;31m# __wrapped__ allows AutoGraph to swap in a converted function. We give\u001b[0m\u001b[0;34m\u001b[0m\u001b[0;34m\u001b[0m\u001b[0;34m\u001b[0m\u001b[0m\n\u001b[1;32m    599\u001b[0m         \u001b[0;31m# the function a weak reference to itself to avoid a reference cycle.\u001b[0m\u001b[0;34m\u001b[0m\u001b[0;34m\u001b[0m\u001b[0;34m\u001b[0m\u001b[0m\n\u001b[0;32m--> 600\u001b[0;31m         \u001b[0;32mreturn\u001b[0m \u001b[0mweak_wrapped_fn\u001b[0m\u001b[0;34m(\u001b[0m\u001b[0;34m)\u001b[0m\u001b[0;34m.\u001b[0m\u001b[0m__wrapped__\u001b[0m\u001b[0;34m(\u001b[0m\u001b[0;34m*\u001b[0m\u001b[0margs\u001b[0m\u001b[0;34m,\u001b[0m \u001b[0;34m**\u001b[0m\u001b[0mkwds\u001b[0m\u001b[0;34m)\u001b[0m\u001b[0;34m\u001b[0m\u001b[0;34m\u001b[0m\u001b[0m\n\u001b[0m\u001b[1;32m    601\u001b[0m     \u001b[0mweak_wrapped_fn\u001b[0m \u001b[0;34m=\u001b[0m \u001b[0mweakref\u001b[0m\u001b[0;34m.\u001b[0m\u001b[0mref\u001b[0m\u001b[0;34m(\u001b[0m\u001b[0mwrapped_fn\u001b[0m\u001b[0;34m)\u001b[0m\u001b[0;34m\u001b[0m\u001b[0;34m\u001b[0m\u001b[0m\n\u001b[1;32m    602\u001b[0m \u001b[0;34m\u001b[0m\u001b[0m\n",
      "\u001b[0;32m~/.local/lib/python3.7/site-packages/tensorflow/python/framework/func_graph.py\u001b[0m in \u001b[0;36mwrapper\u001b[0;34m(*args, **kwargs)\u001b[0m\n\u001b[1;32m    971\u001b[0m           \u001b[0;32mexcept\u001b[0m \u001b[0mException\u001b[0m \u001b[0;32mas\u001b[0m \u001b[0me\u001b[0m\u001b[0;34m:\u001b[0m  \u001b[0;31m# pylint:disable=broad-except\u001b[0m\u001b[0;34m\u001b[0m\u001b[0;34m\u001b[0m\u001b[0m\n\u001b[1;32m    972\u001b[0m             \u001b[0;32mif\u001b[0m \u001b[0mhasattr\u001b[0m\u001b[0;34m(\u001b[0m\u001b[0me\u001b[0m\u001b[0;34m,\u001b[0m \u001b[0;34m\"ag_error_metadata\"\u001b[0m\u001b[0;34m)\u001b[0m\u001b[0;34m:\u001b[0m\u001b[0;34m\u001b[0m\u001b[0;34m\u001b[0m\u001b[0m\n\u001b[0;32m--> 973\u001b[0;31m               \u001b[0;32mraise\u001b[0m \u001b[0me\u001b[0m\u001b[0;34m.\u001b[0m\u001b[0mag_error_metadata\u001b[0m\u001b[0;34m.\u001b[0m\u001b[0mto_exception\u001b[0m\u001b[0;34m(\u001b[0m\u001b[0me\u001b[0m\u001b[0;34m)\u001b[0m\u001b[0;34m\u001b[0m\u001b[0;34m\u001b[0m\u001b[0m\n\u001b[0m\u001b[1;32m    974\u001b[0m             \u001b[0;32melse\u001b[0m\u001b[0;34m:\u001b[0m\u001b[0;34m\u001b[0m\u001b[0;34m\u001b[0m\u001b[0m\n\u001b[1;32m    975\u001b[0m               \u001b[0;32mraise\u001b[0m\u001b[0;34m\u001b[0m\u001b[0;34m\u001b[0m\u001b[0m\n",
      "\u001b[0;31mNameError\u001b[0m: in user code:\n\n    <ipython-input-24-f7d82fbf9b08>:20 train_step  *\n        returns = get_expected_return(rewards, gamma)\n\n    NameError: name 'get_expected_return' is not defined\n"
     ]
    }
   ],
   "source": [
    "%%time\n",
    "\n",
    "max_episodes = 10000\n",
    "max_steps_per_episode = 1000\n",
    "\n",
    "# Cartpole-v0 is considered solved if average reward is >= 195 over 100 \n",
    "# consecutive trials\n",
    "reward_threshold = 195\n",
    "running_reward = 0\n",
    "\n",
    "# Discount factor for future rewards\n",
    "gamma = 0.99\n",
    "\n",
    "with tqdm.trange(max_episodes) as t:\n",
    "  for i in t:\n",
    "    initial_state = tf.constant(env.reset(), dtype=tf.float32)\n",
    "    episode_reward = int(train_step(\n",
    "        initial_state, model, optimizer, gamma, max_steps_per_episode))\n",
    "\n",
    "    running_reward = episode_reward*0.01 + running_reward*.99\n",
    "  \n",
    "    t.set_description(f'Episode {i}')\n",
    "    t.set_postfix(\n",
    "        episode_reward=episode_reward, running_reward=running_reward)\n",
    "  \n",
    "    # Show average episode reward every 10 episodes\n",
    "    if i % 10 == 0:\n",
    "      pass # print(f'Episode {i}: average reward: {avg_reward}')\n",
    "  \n",
    "    if running_reward > reward_threshold:  \n",
    "        break\n",
    "\n",
    "print(f'\\nSolved at episode {i}: average reward: {running_reward:.2f}!')"
   ]
  },
  {
   "cell_type": "markdown",
   "metadata": {
    "id": "ru8BEwS1EmAv"
   },
   "source": [
    "## Visualization\n",
    "\n",
    "After training, it would be good to visualize how the model performs in the environment. You can run the cells below to generate a GIF animation of one episode run of the model. Note that additional packages need to be installed for OpenAI Gym to render the environment's images correctly in Colab."
   ]
  },
  {
   "cell_type": "code",
   "execution_count": 13,
   "metadata": {
    "id": "qbIMMkfmRHyC"
   },
   "outputs": [
    {
     "ename": "AttributeError",
     "evalue": "'NoneType' object has no attribute '__array_interface__'",
     "output_type": "error",
     "traceback": [
      "\u001b[0;31m---------------------------------------------------------------------------\u001b[0m",
      "\u001b[0;31mAttributeError\u001b[0m                            Traceback (most recent call last)",
      "\u001b[0;32m<ipython-input-13-4184796ceaa6>\u001b[0m in \u001b[0;36m<module>\u001b[0;34m\u001b[0m\n\u001b[1;32m     37\u001b[0m \u001b[0;34m\u001b[0m\u001b[0m\n\u001b[1;32m     38\u001b[0m \u001b[0;31m# Save GIF image\u001b[0m\u001b[0;34m\u001b[0m\u001b[0;34m\u001b[0m\u001b[0;34m\u001b[0m\u001b[0m\n\u001b[0;32m---> 39\u001b[0;31m \u001b[0mimages\u001b[0m \u001b[0;34m=\u001b[0m \u001b[0mrender_episode\u001b[0m\u001b[0;34m(\u001b[0m\u001b[0menv\u001b[0m\u001b[0;34m,\u001b[0m \u001b[0mmodel\u001b[0m\u001b[0;34m,\u001b[0m \u001b[0mmax_steps_per_episode\u001b[0m\u001b[0;34m)\u001b[0m\u001b[0;34m\u001b[0m\u001b[0;34m\u001b[0m\u001b[0m\n\u001b[0m\u001b[1;32m     40\u001b[0m \u001b[0mimage_file\u001b[0m \u001b[0;34m=\u001b[0m \u001b[0;34m'cartpole-v0.gif'\u001b[0m\u001b[0;34m\u001b[0m\u001b[0;34m\u001b[0m\u001b[0m\n\u001b[1;32m     41\u001b[0m \u001b[0;31m# loop=0: loop forever, duration=1: play each frame for 1ms\u001b[0m\u001b[0;34m\u001b[0m\u001b[0;34m\u001b[0m\u001b[0;34m\u001b[0m\u001b[0m\n",
      "\u001b[0;32m<ipython-input-13-4184796ceaa6>\u001b[0m in \u001b[0;36mrender_episode\u001b[0;34m(env, model, max_steps)\u001b[0m\n\u001b[1;32m     12\u001b[0m \u001b[0;32mdef\u001b[0m \u001b[0mrender_episode\u001b[0m\u001b[0;34m(\u001b[0m\u001b[0menv\u001b[0m\u001b[0;34m:\u001b[0m \u001b[0mgym\u001b[0m\u001b[0;34m.\u001b[0m\u001b[0mEnv\u001b[0m\u001b[0;34m,\u001b[0m \u001b[0mmodel\u001b[0m\u001b[0;34m:\u001b[0m \u001b[0mtf\u001b[0m\u001b[0;34m.\u001b[0m\u001b[0mkeras\u001b[0m\u001b[0;34m.\u001b[0m\u001b[0mModel\u001b[0m\u001b[0;34m,\u001b[0m \u001b[0mmax_steps\u001b[0m\u001b[0;34m:\u001b[0m \u001b[0mint\u001b[0m\u001b[0;34m)\u001b[0m\u001b[0;34m:\u001b[0m\u001b[0;34m\u001b[0m\u001b[0;34m\u001b[0m\u001b[0m\n\u001b[1;32m     13\u001b[0m   \u001b[0mscreen\u001b[0m \u001b[0;34m=\u001b[0m \u001b[0menv\u001b[0m\u001b[0;34m.\u001b[0m\u001b[0mrender\u001b[0m\u001b[0;34m(\u001b[0m\u001b[0mmode\u001b[0m\u001b[0;34m=\u001b[0m\u001b[0;34m'rgb_array'\u001b[0m\u001b[0;34m)\u001b[0m\u001b[0;34m\u001b[0m\u001b[0;34m\u001b[0m\u001b[0m\n\u001b[0;32m---> 14\u001b[0;31m   \u001b[0mim\u001b[0m \u001b[0;34m=\u001b[0m \u001b[0mImage\u001b[0m\u001b[0;34m.\u001b[0m\u001b[0mfromarray\u001b[0m\u001b[0;34m(\u001b[0m\u001b[0mscreen\u001b[0m\u001b[0;34m)\u001b[0m\u001b[0;34m\u001b[0m\u001b[0;34m\u001b[0m\u001b[0m\n\u001b[0m\u001b[1;32m     15\u001b[0m \u001b[0;34m\u001b[0m\u001b[0m\n\u001b[1;32m     16\u001b[0m   \u001b[0mimages\u001b[0m \u001b[0;34m=\u001b[0m \u001b[0;34m[\u001b[0m\u001b[0mim\u001b[0m\u001b[0;34m]\u001b[0m\u001b[0;34m\u001b[0m\u001b[0;34m\u001b[0m\u001b[0m\n",
      "\u001b[0;32m~/anaconda3/lib/python3.7/site-packages/PIL/Image.py\u001b[0m in \u001b[0;36mfromarray\u001b[0;34m(obj, mode)\u001b[0m\n\u001b[1;32m   2506\u001b[0m     \u001b[0;34m.\u001b[0m\u001b[0;34m.\u001b[0m \u001b[0mversionadded\u001b[0m\u001b[0;34m:\u001b[0m\u001b[0;34m:\u001b[0m \u001b[0;36m1.1\u001b[0m\u001b[0;36m.6\u001b[0m\u001b[0;34m\u001b[0m\u001b[0;34m\u001b[0m\u001b[0m\n\u001b[1;32m   2507\u001b[0m     \"\"\"\n\u001b[0;32m-> 2508\u001b[0;31m     \u001b[0marr\u001b[0m \u001b[0;34m=\u001b[0m \u001b[0mobj\u001b[0m\u001b[0;34m.\u001b[0m\u001b[0m__array_interface__\u001b[0m\u001b[0;34m\u001b[0m\u001b[0;34m\u001b[0m\u001b[0m\n\u001b[0m\u001b[1;32m   2509\u001b[0m     \u001b[0mshape\u001b[0m \u001b[0;34m=\u001b[0m \u001b[0marr\u001b[0m\u001b[0;34m[\u001b[0m\u001b[0;34m'shape'\u001b[0m\u001b[0;34m]\u001b[0m\u001b[0;34m\u001b[0m\u001b[0;34m\u001b[0m\u001b[0m\n\u001b[1;32m   2510\u001b[0m     \u001b[0mndim\u001b[0m \u001b[0;34m=\u001b[0m \u001b[0mlen\u001b[0m\u001b[0;34m(\u001b[0m\u001b[0mshape\u001b[0m\u001b[0;34m)\u001b[0m\u001b[0;34m\u001b[0m\u001b[0;34m\u001b[0m\u001b[0m\n",
      "\u001b[0;31mAttributeError\u001b[0m: 'NoneType' object has no attribute '__array_interface__'"
     ]
    }
   ],
   "source": [
    "# Render an episode and save as a GIF file\n",
    "\n",
    "from IPython import display as ipythondisplay\n",
    "from PIL import Image\n",
    "from pyvirtualdisplay import Display\n",
    "\n",
    "\n",
    "display = Display(visible=0, size=(400, 300))\n",
    "display.start()\n",
    "\n",
    "max_steps_per_episode = 1000\n",
    "def render_episode(env: gym.Env, model: tf.keras.Model, max_steps: int): \n",
    "  screen = env.render(mode='rgb_array')\n",
    "  im = Image.fromarray(screen)\n",
    "\n",
    "  images = [im]\n",
    "  \n",
    "  state = tf.constant(env.reset(), dtype=tf.float32)\n",
    "  for i in range(1, max_steps + 1):\n",
    "    state = tf.expand_dims(state, 0)\n",
    "    action_probs, _ = model(state)\n",
    "    action = np.argmax(np.squeeze(action_probs))\n",
    "\n",
    "    state, _, done, _ = env.step(action)\n",
    "    state = tf.constant(state, dtype=tf.float32)\n",
    "\n",
    "    # Render screen every 10 steps\n",
    "    if i % 10 == 0:\n",
    "      screen = env.render(mode='rgb_array')\n",
    "      images.append(Image.fromarray(screen))\n",
    "  \n",
    "    if done:\n",
    "      break\n",
    "  \n",
    "  return images\n",
    "\n",
    "\n",
    "# Save GIF image\n",
    "images = render_episode(env, model, max_steps_per_episode)\n",
    "image_file = 'cartpole-v0.gif'\n",
    "# loop=0: loop forever, duration=1: play each frame for 1ms\n",
    "images[0].save(\n",
    "    image_file, save_all=True, append_images=images[1:], loop=0, duration=1)"
   ]
  },
  {
   "cell_type": "code",
   "execution_count": 26,
   "metadata": {
    "id": "TLd720SejKmf"
   },
   "outputs": [
    {
     "data": {
      "text/html": [
       "<img src=\"data:image/gif;base64,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\"/>"
      ],
      "text/plain": [
       "<IPython.core.display.HTML object>"
      ]
     },
     "execution_count": 26,
     "metadata": {},
     "output_type": "execute_result"
    }
   ],
   "source": [
    "import tensorflow_docs.vis.embed as embed\n",
    "embed.embed_file(image_file)"
   ]
  },
  {
   "cell_type": "markdown",
   "metadata": {},
   "source": [
    "## References\n",
    "\n",
    "1. https://en.wikipedia.org/wiki/Reinforcement_learning\n",
    "2. https://www.learndatasci.com/tutorials/reinforcement-q-learning-scratch-python-openai-gym/"
   ]
  }
 ],
 "metadata": {
  "colab": {
   "collapsed_sections": [
    "_jQ1tEQCxwRx"
   ],
   "name": "actor_critic.ipynb",
   "toc_visible": true
  },
  "kernelspec": {
   "display_name": "Python 3",
   "language": "python",
   "name": "python3"
  },
  "language_info": {
   "codemirror_mode": {
    "name": "ipython",
    "version": 3
   },
   "file_extension": ".py",
   "mimetype": "text/x-python",
   "name": "python",
   "nbconvert_exporter": "python",
   "pygments_lexer": "ipython3",
   "version": "3.7.3"
  }
 },
 "nbformat": 4,
 "nbformat_minor": 1
}
